{
 "cells": [
  {
   "cell_type": "code",
   "execution_count": 1,
   "id": "bc89b7f1",
   "metadata": {
    "_cell_guid": "b1076dfc-b9ad-4769-8c92-a6c4dae69d19",
    "_uuid": "8f2839f25d086af736a60e9eeb907d3b93b6e0e5",
    "execution": {
     "iopub.execute_input": "2023-12-15T10:43:54.371071Z",
     "iopub.status.busy": "2023-12-15T10:43:54.370673Z",
     "iopub.status.idle": "2023-12-15T10:43:55.057367Z",
     "shell.execute_reply": "2023-12-15T10:43:55.056400Z"
    },
    "papermill": {
     "duration": 0.710062,
     "end_time": "2023-12-15T10:43:55.060011",
     "exception": false,
     "start_time": "2023-12-15T10:43:54.349949",
     "status": "completed"
    },
    "tags": []
   },
   "outputs": [
    {
     "name": "stdout",
     "output_type": "stream",
     "text": [
      "/kaggle/input/taxi-fare-guru-total-amount-prediction-challenge/sample.csv.csv\n",
      "/kaggle/input/taxi-fare-guru-total-amount-prediction-challenge/train.csv\n",
      "/kaggle/input/taxi-fare-guru-total-amount-prediction-challenge/test.csv\n"
     ]
    }
   ],
   "source": [
    "# This Python 3 environment comes with many helpful analytics libraries installed\n",
    "# It is defined by the kaggle/python Docker image: https://github.com/kaggle/docker-python\n",
    "# For example, here's several helpful packages to load\n",
    "\n",
    "import numpy as np # linear algebra\n",
    "import pandas as pd # data processing, CSV file I/O (e.g. pd.read_csv)\n",
    "\n",
    "# Input data files are available in the read-only \"../input/\" directory\n",
    "# For example, running this (by clicking run or pressing Shift+Enter) will list all files under the input directory\n",
    "\n",
    "import os\n",
    "for dirname, _, filenames in os.walk('/kaggle/input'):\n",
    "    for filename in filenames:\n",
    "        print(os.path.join(dirname, filename))\n",
    "\n",
    "# You can write up to 20GB to the current directory (/kaggle/working/) that gets preserved as output when you create a version using \"Save & Run All\" \n",
    "# You can also write temporary files to /kaggle/temp/, but they won't be saved outside of the current session"
   ]
  },
  {
   "cell_type": "markdown",
   "id": "010584d0",
   "metadata": {
    "papermill": {
     "duration": 0.017346,
     "end_time": "2023-12-15T10:43:55.095174",
     "exception": false,
     "start_time": "2023-12-15T10:43:55.077828",
     "status": "completed"
    },
    "tags": []
   },
   "source": [
    "# **Read to The Dataset**"
   ]
  },
  {
   "cell_type": "code",
   "execution_count": 2,
   "id": "c8f24eb9",
   "metadata": {
    "execution": {
     "iopub.execute_input": "2023-12-15T10:43:55.132112Z",
     "iopub.status.busy": "2023-12-15T10:43:55.131351Z",
     "iopub.status.idle": "2023-12-15T10:43:56.161197Z",
     "shell.execute_reply": "2023-12-15T10:43:56.160436Z"
    },
    "papermill": {
     "duration": 1.050766,
     "end_time": "2023-12-15T10:43:56.163587",
     "exception": false,
     "start_time": "2023-12-15T10:43:55.112821",
     "status": "completed"
    },
    "tags": []
   },
   "outputs": [],
   "source": [
    "train = pd.read_csv(\"/kaggle/input/taxi-fare-guru-total-amount-prediction-challenge/train.csv\")\n",
    "test = pd.read_csv(\"/kaggle/input/taxi-fare-guru-total-amount-prediction-challenge/test.csv\")\n",
    "sample= pd.read_csv(\"/kaggle/input/taxi-fare-guru-total-amount-prediction-challenge/sample.csv.csv\")"
   ]
  },
  {
   "cell_type": "code",
   "execution_count": 3,
   "id": "9013470a",
   "metadata": {
    "execution": {
     "iopub.execute_input": "2023-12-15T10:43:56.200118Z",
     "iopub.status.busy": "2023-12-15T10:43:56.199559Z",
     "iopub.status.idle": "2023-12-15T10:43:56.228077Z",
     "shell.execute_reply": "2023-12-15T10:43:56.227143Z"
    },
    "papermill": {
     "duration": 0.048914,
     "end_time": "2023-12-15T10:43:56.229990",
     "exception": false,
     "start_time": "2023-12-15T10:43:56.181076",
     "status": "completed"
    },
    "tags": []
   },
   "outputs": [
    {
     "data": {
      "text/html": [
       "<div>\n",
       "<style scoped>\n",
       "    .dataframe tbody tr th:only-of-type {\n",
       "        vertical-align: middle;\n",
       "    }\n",
       "\n",
       "    .dataframe tbody tr th {\n",
       "        vertical-align: top;\n",
       "    }\n",
       "\n",
       "    .dataframe thead th {\n",
       "        text-align: right;\n",
       "    }\n",
       "</style>\n",
       "<table border=\"1\" class=\"dataframe\">\n",
       "  <thead>\n",
       "    <tr style=\"text-align: right;\">\n",
       "      <th></th>\n",
       "      <th>VendorID</th>\n",
       "      <th>tpep_pickup_datetime</th>\n",
       "      <th>tpep_dropoff_datetime</th>\n",
       "      <th>passenger_count</th>\n",
       "      <th>trip_distance</th>\n",
       "      <th>RatecodeID</th>\n",
       "      <th>store_and_fwd_flag</th>\n",
       "      <th>PULocationID</th>\n",
       "      <th>DOLocationID</th>\n",
       "      <th>payment_type</th>\n",
       "      <th>extra</th>\n",
       "      <th>tip_amount</th>\n",
       "      <th>tolls_amount</th>\n",
       "      <th>improvement_surcharge</th>\n",
       "      <th>total_amount</th>\n",
       "      <th>congestion_surcharge</th>\n",
       "      <th>Airport_fee</th>\n",
       "    </tr>\n",
       "  </thead>\n",
       "  <tbody>\n",
       "    <tr>\n",
       "      <th>0</th>\n",
       "      <td>1</td>\n",
       "      <td>2023-06-28 17:20:21</td>\n",
       "      <td>2023-06-28 16:34:45</td>\n",
       "      <td>1.0</td>\n",
       "      <td>2.14</td>\n",
       "      <td>1.0</td>\n",
       "      <td>N</td>\n",
       "      <td>120</td>\n",
       "      <td>9</td>\n",
       "      <td>Credit Card</td>\n",
       "      <td>2.5</td>\n",
       "      <td>7.165589</td>\n",
       "      <td>0.0</td>\n",
       "      <td>1.0</td>\n",
       "      <td>20.64</td>\n",
       "      <td>2.5</td>\n",
       "      <td>0.0</td>\n",
       "    </tr>\n",
       "    <tr>\n",
       "      <th>1</th>\n",
       "      <td>0</td>\n",
       "      <td>2023-06-29 23:05:01</td>\n",
       "      <td>2023-06-29 22:01:35</td>\n",
       "      <td>1.0</td>\n",
       "      <td>2.70</td>\n",
       "      <td>1.0</td>\n",
       "      <td>N</td>\n",
       "      <td>15</td>\n",
       "      <td>215</td>\n",
       "      <td>Credit Card</td>\n",
       "      <td>3.5</td>\n",
       "      <td>6.067401</td>\n",
       "      <td>0.0</td>\n",
       "      <td>1.0</td>\n",
       "      <td>25.55</td>\n",
       "      <td>2.5</td>\n",
       "      <td>0.0</td>\n",
       "    </tr>\n",
       "    <tr>\n",
       "      <th>2</th>\n",
       "      <td>1</td>\n",
       "      <td>2023-06-30 10:19:31</td>\n",
       "      <td>2023-06-30 11:13:10</td>\n",
       "      <td>1.0</td>\n",
       "      <td>1.15</td>\n",
       "      <td>1.0</td>\n",
       "      <td>N</td>\n",
       "      <td>167</td>\n",
       "      <td>223</td>\n",
       "      <td>Credit Card</td>\n",
       "      <td>0.0</td>\n",
       "      <td>4.111547</td>\n",
       "      <td>0.0</td>\n",
       "      <td>1.0</td>\n",
       "      <td>17.64</td>\n",
       "      <td>2.5</td>\n",
       "      <td>0.0</td>\n",
       "    </tr>\n",
       "    <tr>\n",
       "      <th>3</th>\n",
       "      <td>0</td>\n",
       "      <td>2023-06-29 13:23:09</td>\n",
       "      <td>2023-06-29 14:20:01</td>\n",
       "      <td>1.0</td>\n",
       "      <td>0.40</td>\n",
       "      <td>1.0</td>\n",
       "      <td>N</td>\n",
       "      <td>128</td>\n",
       "      <td>239</td>\n",
       "      <td>Credit Card</td>\n",
       "      <td>2.5</td>\n",
       "      <td>6.411079</td>\n",
       "      <td>0.0</td>\n",
       "      <td>1.0</td>\n",
       "      <td>12.80</td>\n",
       "      <td>2.5</td>\n",
       "      <td>0.0</td>\n",
       "    </tr>\n",
       "    <tr>\n",
       "      <th>4</th>\n",
       "      <td>1</td>\n",
       "      <td>2023-06-29 22:03:32</td>\n",
       "      <td>2023-06-29 22:22:22</td>\n",
       "      <td>3.0</td>\n",
       "      <td>1.10</td>\n",
       "      <td>1.0</td>\n",
       "      <td>N</td>\n",
       "      <td>203</td>\n",
       "      <td>52</td>\n",
       "      <td>Credit Card</td>\n",
       "      <td>1.0</td>\n",
       "      <td>4.769377</td>\n",
       "      <td>0.0</td>\n",
       "      <td>1.0</td>\n",
       "      <td>18.00</td>\n",
       "      <td>2.5</td>\n",
       "      <td>0.0</td>\n",
       "    </tr>\n",
       "  </tbody>\n",
       "</table>\n",
       "</div>"
      ],
      "text/plain": [
       "   VendorID tpep_pickup_datetime tpep_dropoff_datetime  passenger_count  \\\n",
       "0         1  2023-06-28 17:20:21   2023-06-28 16:34:45              1.0   \n",
       "1         0  2023-06-29 23:05:01   2023-06-29 22:01:35              1.0   \n",
       "2         1  2023-06-30 10:19:31   2023-06-30 11:13:10              1.0   \n",
       "3         0  2023-06-29 13:23:09   2023-06-29 14:20:01              1.0   \n",
       "4         1  2023-06-29 22:03:32   2023-06-29 22:22:22              3.0   \n",
       "\n",
       "   trip_distance  RatecodeID store_and_fwd_flag  PULocationID  DOLocationID  \\\n",
       "0           2.14         1.0                  N           120             9   \n",
       "1           2.70         1.0                  N            15           215   \n",
       "2           1.15         1.0                  N           167           223   \n",
       "3           0.40         1.0                  N           128           239   \n",
       "4           1.10         1.0                  N           203            52   \n",
       "\n",
       "  payment_type  extra  tip_amount  tolls_amount  improvement_surcharge  \\\n",
       "0  Credit Card    2.5    7.165589           0.0                    1.0   \n",
       "1  Credit Card    3.5    6.067401           0.0                    1.0   \n",
       "2  Credit Card    0.0    4.111547           0.0                    1.0   \n",
       "3  Credit Card    2.5    6.411079           0.0                    1.0   \n",
       "4  Credit Card    1.0    4.769377           0.0                    1.0   \n",
       "\n",
       "   total_amount  congestion_surcharge  Airport_fee  \n",
       "0         20.64                   2.5          0.0  \n",
       "1         25.55                   2.5          0.0  \n",
       "2         17.64                   2.5          0.0  \n",
       "3         12.80                   2.5          0.0  \n",
       "4         18.00                   2.5          0.0  "
      ]
     },
     "execution_count": 3,
     "metadata": {},
     "output_type": "execute_result"
    }
   ],
   "source": [
    "train.head(5)"
   ]
  },
  {
   "cell_type": "code",
   "execution_count": 4,
   "id": "f08d45b6",
   "metadata": {
    "execution": {
     "iopub.execute_input": "2023-12-15T10:43:56.266742Z",
     "iopub.status.busy": "2023-12-15T10:43:56.266429Z",
     "iopub.status.idle": "2023-12-15T10:43:56.294936Z",
     "shell.execute_reply": "2023-12-15T10:43:56.293851Z"
    },
    "papermill": {
     "duration": 0.049416,
     "end_time": "2023-12-15T10:43:56.297072",
     "exception": false,
     "start_time": "2023-12-15T10:43:56.247656",
     "status": "completed"
    },
    "tags": []
   },
   "outputs": [
    {
     "name": "stdout",
     "output_type": "stream",
     "text": [
      "store_and_fwd_flag\n",
      "N    167729\n",
      "Y      1194\n",
      "Name: count, dtype: int64\n"
     ]
    }
   ],
   "source": [
    "print(train.store_and_fwd_flag.value_counts())"
   ]
  },
  {
   "cell_type": "markdown",
   "id": "51e3e279",
   "metadata": {
    "papermill": {
     "duration": 0.017326,
     "end_time": "2023-12-15T10:43:56.331835",
     "exception": false,
     "start_time": "2023-12-15T10:43:56.314509",
     "status": "completed"
    },
    "tags": []
   },
   "source": [
    "# **Types Of Dataset**"
   ]
  },
  {
   "cell_type": "code",
   "execution_count": 5,
   "id": "4881878f",
   "metadata": {
    "execution": {
     "iopub.execute_input": "2023-12-15T10:43:56.367582Z",
     "iopub.status.busy": "2023-12-15T10:43:56.367253Z",
     "iopub.status.idle": "2023-12-15T10:43:56.375321Z",
     "shell.execute_reply": "2023-12-15T10:43:56.374518Z"
    },
    "papermill": {
     "duration": 0.028088,
     "end_time": "2023-12-15T10:43:56.377177",
     "exception": false,
     "start_time": "2023-12-15T10:43:56.349089",
     "status": "completed"
    },
    "tags": []
   },
   "outputs": [
    {
     "data": {
      "text/plain": [
       "VendorID                   int64\n",
       "tpep_pickup_datetime      object\n",
       "tpep_dropoff_datetime     object\n",
       "passenger_count          float64\n",
       "trip_distance            float64\n",
       "RatecodeID               float64\n",
       "store_and_fwd_flag        object\n",
       "PULocationID               int64\n",
       "DOLocationID               int64\n",
       "payment_type              object\n",
       "extra                    float64\n",
       "tip_amount               float64\n",
       "tolls_amount             float64\n",
       "improvement_surcharge    float64\n",
       "total_amount             float64\n",
       "congestion_surcharge     float64\n",
       "Airport_fee              float64\n",
       "dtype: object"
      ]
     },
     "execution_count": 5,
     "metadata": {},
     "output_type": "execute_result"
    }
   ],
   "source": [
    "train.dtypes"
   ]
  },
  {
   "cell_type": "markdown",
   "id": "c8135ff7",
   "metadata": {
    "papermill": {
     "duration": 0.017017,
     "end_time": "2023-12-15T10:43:56.411523",
     "exception": false,
     "start_time": "2023-12-15T10:43:56.394506",
     "status": "completed"
    },
    "tags": []
   },
   "source": [
    "# **Feature Engineering**"
   ]
  },
  {
   "cell_type": "markdown",
   "id": "0f089d0b",
   "metadata": {
    "papermill": {
     "duration": 0.017191,
     "end_time": "2023-12-15T10:43:56.445770",
     "exception": false,
     "start_time": "2023-12-15T10:43:56.428579",
     "status": "completed"
    },
    "tags": []
   },
   "source": [
    "# We want know about which columns are numerical and which columns are categorical."
   ]
  },
  {
   "cell_type": "code",
   "execution_count": 6,
   "id": "d7d356ce",
   "metadata": {
    "execution": {
     "iopub.execute_input": "2023-12-15T10:43:56.480878Z",
     "iopub.status.busy": "2023-12-15T10:43:56.480591Z",
     "iopub.status.idle": "2023-12-15T10:43:56.503099Z",
     "shell.execute_reply": "2023-12-15T10:43:56.502082Z"
    },
    "papermill": {
     "duration": 0.042399,
     "end_time": "2023-12-15T10:43:56.505134",
     "exception": false,
     "start_time": "2023-12-15T10:43:56.462735",
     "status": "completed"
    },
    "tags": []
   },
   "outputs": [
    {
     "name": "stdout",
     "output_type": "stream",
     "text": [
      "Index(['VendorID', 'passenger_count', 'trip_distance', 'RatecodeID',\n",
      "       'PULocationID', 'DOLocationID', 'extra', 'tip_amount', 'tolls_amount',\n",
      "       'improvement_surcharge', 'total_amount', 'congestion_surcharge',\n",
      "       'Airport_fee'],\n",
      "      dtype='object')\n",
      "Index(['tpep_pickup_datetime', 'tpep_dropoff_datetime', 'store_and_fwd_flag',\n",
      "       'payment_type'],\n",
      "      dtype='object')\n"
     ]
    }
   ],
   "source": [
    "NC = train.select_dtypes(include=['number']).columns  #NC=Numerical columns\n",
    "CC = train.select_dtypes(include=['object']).columns  #CC=Catogerical Columns\n",
    "print(NC)\n",
    "print(CC)"
   ]
  },
  {
   "cell_type": "markdown",
   "id": "ef36f2ea",
   "metadata": {
    "papermill": {
     "duration": 0.017443,
     "end_time": "2023-12-15T10:43:56.587944",
     "exception": false,
     "start_time": "2023-12-15T10:43:56.570501",
     "status": "completed"
    },
    "tags": []
   },
   "source": [
    "**Summary Statistics:**\n",
    "\n",
    "* Get an overview of the dataset using descriptive statistics.\n",
    "* Identify mean, median, standard deviation, min, max, etc."
   ]
  },
  {
   "cell_type": "code",
   "execution_count": 7,
   "id": "a75a886c",
   "metadata": {
    "execution": {
     "iopub.execute_input": "2023-12-15T10:43:56.624693Z",
     "iopub.status.busy": "2023-12-15T10:43:56.624097Z",
     "iopub.status.idle": "2023-12-15T10:43:56.739650Z",
     "shell.execute_reply": "2023-12-15T10:43:56.738701Z"
    },
    "papermill": {
     "duration": 0.136302,
     "end_time": "2023-12-15T10:43:56.741732",
     "exception": false,
     "start_time": "2023-12-15T10:43:56.605430",
     "status": "completed"
    },
    "tags": []
   },
   "outputs": [
    {
     "data": {
      "text/html": [
       "<div>\n",
       "<style scoped>\n",
       "    .dataframe tbody tr th:only-of-type {\n",
       "        vertical-align: middle;\n",
       "    }\n",
       "\n",
       "    .dataframe tbody tr th {\n",
       "        vertical-align: top;\n",
       "    }\n",
       "\n",
       "    .dataframe thead th {\n",
       "        text-align: right;\n",
       "    }\n",
       "</style>\n",
       "<table border=\"1\" class=\"dataframe\">\n",
       "  <thead>\n",
       "    <tr style=\"text-align: right;\">\n",
       "      <th></th>\n",
       "      <th>VendorID</th>\n",
       "      <th>passenger_count</th>\n",
       "      <th>trip_distance</th>\n",
       "      <th>RatecodeID</th>\n",
       "      <th>PULocationID</th>\n",
       "      <th>DOLocationID</th>\n",
       "      <th>extra</th>\n",
       "      <th>tip_amount</th>\n",
       "      <th>tolls_amount</th>\n",
       "      <th>improvement_surcharge</th>\n",
       "      <th>total_amount</th>\n",
       "      <th>congestion_surcharge</th>\n",
       "      <th>Airport_fee</th>\n",
       "    </tr>\n",
       "  </thead>\n",
       "  <tbody>\n",
       "    <tr>\n",
       "      <th>count</th>\n",
       "      <td>175000.000000</td>\n",
       "      <td>168923.000000</td>\n",
       "      <td>175000.000000</td>\n",
       "      <td>168923.000000</td>\n",
       "      <td>175000.000000</td>\n",
       "      <td>175000.000000</td>\n",
       "      <td>175000.000000</td>\n",
       "      <td>175000.000000</td>\n",
       "      <td>175000.000000</td>\n",
       "      <td>175000.000000</td>\n",
       "      <td>175000.000000</td>\n",
       "      <td>168923.000000</td>\n",
       "      <td>168923.000000</td>\n",
       "    </tr>\n",
       "    <tr>\n",
       "      <th>mean</th>\n",
       "      <td>0.728377</td>\n",
       "      <td>1.357678</td>\n",
       "      <td>5.145930</td>\n",
       "      <td>1.518307</td>\n",
       "      <td>132.710349</td>\n",
       "      <td>132.701429</td>\n",
       "      <td>1.932143</td>\n",
       "      <td>6.127497</td>\n",
       "      <td>0.646816</td>\n",
       "      <td>0.979689</td>\n",
       "      <td>29.633901</td>\n",
       "      <td>2.246971</td>\n",
       "      <td>0.158825</td>\n",
       "    </tr>\n",
       "    <tr>\n",
       "      <th>std</th>\n",
       "      <td>0.445606</td>\n",
       "      <td>0.891283</td>\n",
       "      <td>394.971052</td>\n",
       "      <td>6.514678</td>\n",
       "      <td>76.148799</td>\n",
       "      <td>76.192493</td>\n",
       "      <td>1.948497</td>\n",
       "      <td>4.610834</td>\n",
       "      <td>2.328274</td>\n",
       "      <td>0.198775</td>\n",
       "      <td>25.425206</td>\n",
       "      <td>0.819216</td>\n",
       "      <td>0.511968</td>\n",
       "    </tr>\n",
       "    <tr>\n",
       "      <th>min</th>\n",
       "      <td>0.000000</td>\n",
       "      <td>0.000000</td>\n",
       "      <td>0.000000</td>\n",
       "      <td>1.000000</td>\n",
       "      <td>1.000000</td>\n",
       "      <td>1.000000</td>\n",
       "      <td>-7.500000</td>\n",
       "      <td>0.000079</td>\n",
       "      <td>-29.300000</td>\n",
       "      <td>-1.000000</td>\n",
       "      <td>-576.750000</td>\n",
       "      <td>-2.500000</td>\n",
       "      <td>-1.750000</td>\n",
       "    </tr>\n",
       "    <tr>\n",
       "      <th>25%</th>\n",
       "      <td>0.000000</td>\n",
       "      <td>1.000000</td>\n",
       "      <td>1.080000</td>\n",
       "      <td>1.000000</td>\n",
       "      <td>67.000000</td>\n",
       "      <td>67.000000</td>\n",
       "      <td>0.000000</td>\n",
       "      <td>3.473321</td>\n",
       "      <td>0.000000</td>\n",
       "      <td>1.000000</td>\n",
       "      <td>16.300000</td>\n",
       "      <td>2.500000</td>\n",
       "      <td>0.000000</td>\n",
       "    </tr>\n",
       "    <tr>\n",
       "      <th>50%</th>\n",
       "      <td>1.000000</td>\n",
       "      <td>1.000000</td>\n",
       "      <td>1.840000</td>\n",
       "      <td>1.000000</td>\n",
       "      <td>133.000000</td>\n",
       "      <td>133.000000</td>\n",
       "      <td>1.000000</td>\n",
       "      <td>5.286217</td>\n",
       "      <td>0.000000</td>\n",
       "      <td>1.000000</td>\n",
       "      <td>21.450000</td>\n",
       "      <td>2.500000</td>\n",
       "      <td>0.000000</td>\n",
       "    </tr>\n",
       "    <tr>\n",
       "      <th>75%</th>\n",
       "      <td>1.000000</td>\n",
       "      <td>1.000000</td>\n",
       "      <td>3.610000</td>\n",
       "      <td>1.000000</td>\n",
       "      <td>199.000000</td>\n",
       "      <td>199.000000</td>\n",
       "      <td>2.500000</td>\n",
       "      <td>7.502746</td>\n",
       "      <td>0.000000</td>\n",
       "      <td>1.000000</td>\n",
       "      <td>31.800000</td>\n",
       "      <td>2.500000</td>\n",
       "      <td>0.000000</td>\n",
       "    </tr>\n",
       "    <tr>\n",
       "      <th>max</th>\n",
       "      <td>2.000000</td>\n",
       "      <td>9.000000</td>\n",
       "      <td>135182.060000</td>\n",
       "      <td>99.000000</td>\n",
       "      <td>264.000000</td>\n",
       "      <td>264.000000</td>\n",
       "      <td>11.750000</td>\n",
       "      <td>484.876151</td>\n",
       "      <td>80.000000</td>\n",
       "      <td>1.000000</td>\n",
       "      <td>587.250000</td>\n",
       "      <td>2.500000</td>\n",
       "      <td>1.750000</td>\n",
       "    </tr>\n",
       "  </tbody>\n",
       "</table>\n",
       "</div>"
      ],
      "text/plain": [
       "            VendorID  passenger_count  trip_distance     RatecodeID  \\\n",
       "count  175000.000000    168923.000000  175000.000000  168923.000000   \n",
       "mean        0.728377         1.357678       5.145930       1.518307   \n",
       "std         0.445606         0.891283     394.971052       6.514678   \n",
       "min         0.000000         0.000000       0.000000       1.000000   \n",
       "25%         0.000000         1.000000       1.080000       1.000000   \n",
       "50%         1.000000         1.000000       1.840000       1.000000   \n",
       "75%         1.000000         1.000000       3.610000       1.000000   \n",
       "max         2.000000         9.000000  135182.060000      99.000000   \n",
       "\n",
       "        PULocationID   DOLocationID          extra     tip_amount  \\\n",
       "count  175000.000000  175000.000000  175000.000000  175000.000000   \n",
       "mean      132.710349     132.701429       1.932143       6.127497   \n",
       "std        76.148799      76.192493       1.948497       4.610834   \n",
       "min         1.000000       1.000000      -7.500000       0.000079   \n",
       "25%        67.000000      67.000000       0.000000       3.473321   \n",
       "50%       133.000000     133.000000       1.000000       5.286217   \n",
       "75%       199.000000     199.000000       2.500000       7.502746   \n",
       "max       264.000000     264.000000      11.750000     484.876151   \n",
       "\n",
       "        tolls_amount  improvement_surcharge   total_amount  \\\n",
       "count  175000.000000          175000.000000  175000.000000   \n",
       "mean        0.646816               0.979689      29.633901   \n",
       "std         2.328274               0.198775      25.425206   \n",
       "min       -29.300000              -1.000000    -576.750000   \n",
       "25%         0.000000               1.000000      16.300000   \n",
       "50%         0.000000               1.000000      21.450000   \n",
       "75%         0.000000               1.000000      31.800000   \n",
       "max        80.000000               1.000000     587.250000   \n",
       "\n",
       "       congestion_surcharge    Airport_fee  \n",
       "count         168923.000000  168923.000000  \n",
       "mean               2.246971       0.158825  \n",
       "std                0.819216       0.511968  \n",
       "min               -2.500000      -1.750000  \n",
       "25%                2.500000       0.000000  \n",
       "50%                2.500000       0.000000  \n",
       "75%                2.500000       0.000000  \n",
       "max                2.500000       1.750000  "
      ]
     },
     "execution_count": 7,
     "metadata": {},
     "output_type": "execute_result"
    }
   ],
   "source": [
    " train.describe()"
   ]
  },
  {
   "cell_type": "markdown",
   "id": "3bbb2232",
   "metadata": {
    "papermill": {
     "duration": 0.018726,
     "end_time": "2023-12-15T10:43:56.778624",
     "exception": false,
     "start_time": "2023-12-15T10:43:56.759898",
     "status": "completed"
    },
    "tags": []
   },
   "source": [
    "# **Missing Values:**"
   ]
  },
  {
   "cell_type": "code",
   "execution_count": 8,
   "id": "addd2511",
   "metadata": {
    "execution": {
     "iopub.execute_input": "2023-12-15T10:43:56.816350Z",
     "iopub.status.busy": "2023-12-15T10:43:56.815634Z",
     "iopub.status.idle": "2023-12-15T10:43:56.887348Z",
     "shell.execute_reply": "2023-12-15T10:43:56.886412Z"
    },
    "papermill": {
     "duration": 0.092702,
     "end_time": "2023-12-15T10:43:56.889267",
     "exception": false,
     "start_time": "2023-12-15T10:43:56.796565",
     "status": "completed"
    },
    "tags": []
   },
   "outputs": [
    {
     "data": {
      "text/plain": [
       "VendorID                    0\n",
       "tpep_pickup_datetime        0\n",
       "tpep_dropoff_datetime       0\n",
       "passenger_count          6077\n",
       "trip_distance               0\n",
       "RatecodeID               6077\n",
       "store_and_fwd_flag       6077\n",
       "PULocationID                0\n",
       "DOLocationID                0\n",
       "payment_type                0\n",
       "extra                       0\n",
       "tip_amount                  0\n",
       "tolls_amount                0\n",
       "improvement_surcharge       0\n",
       "total_amount                0\n",
       "congestion_surcharge     6077\n",
       "Airport_fee              6077\n",
       "dtype: int64"
      ]
     },
     "execution_count": 8,
     "metadata": {},
     "output_type": "execute_result"
    }
   ],
   "source": [
    " train.isnull().sum()    # Check for missing values"
   ]
  },
  {
   "cell_type": "markdown",
   "id": "8e09b5cc",
   "metadata": {
    "papermill": {
     "duration": 0.017879,
     "end_time": "2023-12-15T10:43:56.925536",
     "exception": false,
     "start_time": "2023-12-15T10:43:56.907657",
     "status": "completed"
    },
    "tags": []
   },
   "source": [
    "# >**Encoding Categorical Feature**\n",
    "we have many option to change categorical feature to numerical feature.\n",
    "**like:**\n",
    "* OnehotEncoder\n",
    "* dummy\n",
    "* LabelEncoder\n",
    "* replace()\n",
    "\n",
    "# **Here we are **using LabelEncoder for Encoding Categorical Feature****"
   ]
  },
  {
   "cell_type": "code",
   "execution_count": 9,
   "id": "dcf3f955",
   "metadata": {
    "execution": {
     "iopub.execute_input": "2023-12-15T10:43:56.963674Z",
     "iopub.status.busy": "2023-12-15T10:43:56.962821Z",
     "iopub.status.idle": "2023-12-15T10:43:57.870811Z",
     "shell.execute_reply": "2023-12-15T10:43:57.870052Z"
    },
    "papermill": {
     "duration": 0.929425,
     "end_time": "2023-12-15T10:43:57.873165",
     "exception": false,
     "start_time": "2023-12-15T10:43:56.943740",
     "status": "completed"
    },
    "tags": []
   },
   "outputs": [
    {
     "name": "stderr",
     "output_type": "stream",
     "text": [
      "/opt/conda/lib/python3.10/site-packages/scipy/__init__.py:146: UserWarning: A NumPy version >=1.16.5 and <1.23.0 is required for this version of SciPy (detected version 1.23.5\n",
      "  warnings.warn(f\"A NumPy version >={np_minversion} and <{np_maxversion}\"\n"
     ]
    }
   ],
   "source": [
    "#Applying Encodet On Train Data\n",
    "from sklearn.preprocessing import LabelEncoder\n",
    "import pandas as pd\n",
    "label_encoder1 = LabelEncoder()\n",
    "label_encoder2 = LabelEncoder()\n",
    "train['store_and_fwd_flag']=label_encoder1.fit_transform(train['store_and_fwd_flag'])\n",
    "train['payment_type']=label_encoder2.fit_transform(train['payment_type'])"
   ]
  },
  {
   "cell_type": "code",
   "execution_count": 10,
   "id": "6a55f959",
   "metadata": {
    "execution": {
     "iopub.execute_input": "2023-12-15T10:43:57.925636Z",
     "iopub.status.busy": "2023-12-15T10:43:57.925284Z",
     "iopub.status.idle": "2023-12-15T10:43:57.935115Z",
     "shell.execute_reply": "2023-12-15T10:43:57.934193Z"
    },
    "papermill": {
     "duration": 0.038177,
     "end_time": "2023-12-15T10:43:57.937136",
     "exception": false,
     "start_time": "2023-12-15T10:43:57.898959",
     "status": "completed"
    },
    "tags": []
   },
   "outputs": [
    {
     "name": "stdout",
     "output_type": "stream",
     "text": [
      "store_and_fwd_flag\n",
      "0    167729\n",
      "2      6077\n",
      "1      1194\n",
      "Name: count, dtype: int64\n"
     ]
    }
   ],
   "source": [
    "print(train.store_and_fwd_flag.value_counts())"
   ]
  },
  {
   "cell_type": "code",
   "execution_count": 11,
   "id": "073c53ec",
   "metadata": {
    "execution": {
     "iopub.execute_input": "2023-12-15T10:43:57.984878Z",
     "iopub.status.busy": "2023-12-15T10:43:57.984539Z",
     "iopub.status.idle": "2023-12-15T10:43:58.019772Z",
     "shell.execute_reply": "2023-12-15T10:43:58.018519Z"
    },
    "papermill": {
     "duration": 0.063285,
     "end_time": "2023-12-15T10:43:58.022885",
     "exception": false,
     "start_time": "2023-12-15T10:43:57.959600",
     "status": "completed"
    },
    "tags": []
   },
   "outputs": [],
   "source": [
    "#Applying Encoder On Test Data\n",
    "from sklearn.preprocessing import LabelEncoder\n",
    "import pandas as pd\n",
    "label_encoder1 = LabelEncoder()\n",
    "label_encoder2 = LabelEncoder()\n",
    "test['store_and_fwd_flag']=label_encoder1.fit_transform(test['store_and_fwd_flag'])\n",
    "test['payment_type']=label_encoder2.fit_transform(test['payment_type'])"
   ]
  },
  {
   "cell_type": "code",
   "execution_count": 12,
   "id": "f3dc7505",
   "metadata": {
    "execution": {
     "iopub.execute_input": "2023-12-15T10:43:58.061554Z",
     "iopub.status.busy": "2023-12-15T10:43:58.060779Z",
     "iopub.status.idle": "2023-12-15T10:43:58.081114Z",
     "shell.execute_reply": "2023-12-15T10:43:58.080136Z"
    },
    "papermill": {
     "duration": 0.041592,
     "end_time": "2023-12-15T10:43:58.083070",
     "exception": false,
     "start_time": "2023-12-15T10:43:58.041478",
     "status": "completed"
    },
    "tags": []
   },
   "outputs": [
    {
     "data": {
      "text/html": [
       "<div>\n",
       "<style scoped>\n",
       "    .dataframe tbody tr th:only-of-type {\n",
       "        vertical-align: middle;\n",
       "    }\n",
       "\n",
       "    .dataframe tbody tr th {\n",
       "        vertical-align: top;\n",
       "    }\n",
       "\n",
       "    .dataframe thead th {\n",
       "        text-align: right;\n",
       "    }\n",
       "</style>\n",
       "<table border=\"1\" class=\"dataframe\">\n",
       "  <thead>\n",
       "    <tr style=\"text-align: right;\">\n",
       "      <th></th>\n",
       "      <th>VendorID</th>\n",
       "      <th>tpep_pickup_datetime</th>\n",
       "      <th>tpep_dropoff_datetime</th>\n",
       "      <th>passenger_count</th>\n",
       "      <th>trip_distance</th>\n",
       "      <th>RatecodeID</th>\n",
       "      <th>store_and_fwd_flag</th>\n",
       "      <th>PULocationID</th>\n",
       "      <th>DOLocationID</th>\n",
       "      <th>payment_type</th>\n",
       "      <th>extra</th>\n",
       "      <th>tip_amount</th>\n",
       "      <th>tolls_amount</th>\n",
       "      <th>improvement_surcharge</th>\n",
       "      <th>total_amount</th>\n",
       "      <th>congestion_surcharge</th>\n",
       "      <th>Airport_fee</th>\n",
       "    </tr>\n",
       "  </thead>\n",
       "  <tbody>\n",
       "    <tr>\n",
       "      <th>0</th>\n",
       "      <td>1</td>\n",
       "      <td>2023-06-28 17:20:21</td>\n",
       "      <td>2023-06-28 16:34:45</td>\n",
       "      <td>1.0</td>\n",
       "      <td>2.14</td>\n",
       "      <td>1.0</td>\n",
       "      <td>0</td>\n",
       "      <td>120</td>\n",
       "      <td>9</td>\n",
       "      <td>1</td>\n",
       "      <td>2.5</td>\n",
       "      <td>7.165589</td>\n",
       "      <td>0.0</td>\n",
       "      <td>1.0</td>\n",
       "      <td>20.64</td>\n",
       "      <td>2.5</td>\n",
       "      <td>0.0</td>\n",
       "    </tr>\n",
       "    <tr>\n",
       "      <th>1</th>\n",
       "      <td>0</td>\n",
       "      <td>2023-06-29 23:05:01</td>\n",
       "      <td>2023-06-29 22:01:35</td>\n",
       "      <td>1.0</td>\n",
       "      <td>2.70</td>\n",
       "      <td>1.0</td>\n",
       "      <td>0</td>\n",
       "      <td>15</td>\n",
       "      <td>215</td>\n",
       "      <td>1</td>\n",
       "      <td>3.5</td>\n",
       "      <td>6.067401</td>\n",
       "      <td>0.0</td>\n",
       "      <td>1.0</td>\n",
       "      <td>25.55</td>\n",
       "      <td>2.5</td>\n",
       "      <td>0.0</td>\n",
       "    </tr>\n",
       "    <tr>\n",
       "      <th>2</th>\n",
       "      <td>1</td>\n",
       "      <td>2023-06-30 10:19:31</td>\n",
       "      <td>2023-06-30 11:13:10</td>\n",
       "      <td>1.0</td>\n",
       "      <td>1.15</td>\n",
       "      <td>1.0</td>\n",
       "      <td>0</td>\n",
       "      <td>167</td>\n",
       "      <td>223</td>\n",
       "      <td>1</td>\n",
       "      <td>0.0</td>\n",
       "      <td>4.111547</td>\n",
       "      <td>0.0</td>\n",
       "      <td>1.0</td>\n",
       "      <td>17.64</td>\n",
       "      <td>2.5</td>\n",
       "      <td>0.0</td>\n",
       "    </tr>\n",
       "    <tr>\n",
       "      <th>3</th>\n",
       "      <td>0</td>\n",
       "      <td>2023-06-29 13:23:09</td>\n",
       "      <td>2023-06-29 14:20:01</td>\n",
       "      <td>1.0</td>\n",
       "      <td>0.40</td>\n",
       "      <td>1.0</td>\n",
       "      <td>0</td>\n",
       "      <td>128</td>\n",
       "      <td>239</td>\n",
       "      <td>1</td>\n",
       "      <td>2.5</td>\n",
       "      <td>6.411079</td>\n",
       "      <td>0.0</td>\n",
       "      <td>1.0</td>\n",
       "      <td>12.80</td>\n",
       "      <td>2.5</td>\n",
       "      <td>0.0</td>\n",
       "    </tr>\n",
       "    <tr>\n",
       "      <th>4</th>\n",
       "      <td>1</td>\n",
       "      <td>2023-06-29 22:03:32</td>\n",
       "      <td>2023-06-29 22:22:22</td>\n",
       "      <td>3.0</td>\n",
       "      <td>1.10</td>\n",
       "      <td>1.0</td>\n",
       "      <td>0</td>\n",
       "      <td>203</td>\n",
       "      <td>52</td>\n",
       "      <td>1</td>\n",
       "      <td>1.0</td>\n",
       "      <td>4.769377</td>\n",
       "      <td>0.0</td>\n",
       "      <td>1.0</td>\n",
       "      <td>18.00</td>\n",
       "      <td>2.5</td>\n",
       "      <td>0.0</td>\n",
       "    </tr>\n",
       "  </tbody>\n",
       "</table>\n",
       "</div>"
      ],
      "text/plain": [
       "   VendorID tpep_pickup_datetime tpep_dropoff_datetime  passenger_count  \\\n",
       "0         1  2023-06-28 17:20:21   2023-06-28 16:34:45              1.0   \n",
       "1         0  2023-06-29 23:05:01   2023-06-29 22:01:35              1.0   \n",
       "2         1  2023-06-30 10:19:31   2023-06-30 11:13:10              1.0   \n",
       "3         0  2023-06-29 13:23:09   2023-06-29 14:20:01              1.0   \n",
       "4         1  2023-06-29 22:03:32   2023-06-29 22:22:22              3.0   \n",
       "\n",
       "   trip_distance  RatecodeID  store_and_fwd_flag  PULocationID  DOLocationID  \\\n",
       "0           2.14         1.0                   0           120             9   \n",
       "1           2.70         1.0                   0            15           215   \n",
       "2           1.15         1.0                   0           167           223   \n",
       "3           0.40         1.0                   0           128           239   \n",
       "4           1.10         1.0                   0           203            52   \n",
       "\n",
       "   payment_type  extra  tip_amount  tolls_amount  improvement_surcharge  \\\n",
       "0             1    2.5    7.165589           0.0                    1.0   \n",
       "1             1    3.5    6.067401           0.0                    1.0   \n",
       "2             1    0.0    4.111547           0.0                    1.0   \n",
       "3             1    2.5    6.411079           0.0                    1.0   \n",
       "4             1    1.0    4.769377           0.0                    1.0   \n",
       "\n",
       "   total_amount  congestion_surcharge  Airport_fee  \n",
       "0         20.64                   2.5          0.0  \n",
       "1         25.55                   2.5          0.0  \n",
       "2         17.64                   2.5          0.0  \n",
       "3         12.80                   2.5          0.0  \n",
       "4         18.00                   2.5          0.0  "
      ]
     },
     "execution_count": 12,
     "metadata": {},
     "output_type": "execute_result"
    }
   ],
   "source": [
    "train.head(5)"
   ]
  },
  {
   "cell_type": "markdown",
   "id": "fcc8bc8b",
   "metadata": {
    "papermill": {
     "duration": 0.018125,
     "end_time": "2023-12-15T10:43:58.119527",
     "exception": false,
     "start_time": "2023-12-15T10:43:58.101402",
     "status": "completed"
    },
    "tags": []
   },
   "source": [
    "# **Removing two columns and adding one columns**\n",
    "here we are Converting the datetime columns to datetime objects and **calculating the absolute diffrence between pickup and dropoff times****"
   ]
  },
  {
   "cell_type": "markdown",
   "id": "677cce43",
   "metadata": {
    "papermill": {
     "duration": 0.022521,
     "end_time": "2023-12-15T10:43:58.162816",
     "exception": false,
     "start_time": "2023-12-15T10:43:58.140295",
     "status": "completed"
    },
    "tags": []
   },
   "source": [
    "# preprocessing on train data"
   ]
  },
  {
   "cell_type": "code",
   "execution_count": 13,
   "id": "9af019a3",
   "metadata": {
    "execution": {
     "iopub.execute_input": "2023-12-15T10:43:58.202510Z",
     "iopub.status.busy": "2023-12-15T10:43:58.202181Z",
     "iopub.status.idle": "2023-12-15T10:43:58.353563Z",
     "shell.execute_reply": "2023-12-15T10:43:58.352477Z"
    },
    "papermill": {
     "duration": 0.173035,
     "end_time": "2023-12-15T10:43:58.355741",
     "exception": false,
     "start_time": "2023-12-15T10:43:58.182706",
     "status": "completed"
    },
    "tags": []
   },
   "outputs": [
    {
     "name": "stdout",
     "output_type": "stream",
     "text": [
      "       tpep_pickup_datetime tpep_dropoff_datetime  minute_difference\n",
      "0       2023-06-28 17:20:21   2023-06-28 16:34:45          45.600000\n",
      "1       2023-06-29 23:05:01   2023-06-29 22:01:35          63.433333\n",
      "2       2023-06-30 10:19:31   2023-06-30 11:13:10          53.650000\n",
      "3       2023-06-29 13:23:09   2023-06-29 14:20:01          56.866667\n",
      "4       2023-06-29 22:03:32   2023-06-29 22:22:22          18.833333\n",
      "...                     ...                   ...                ...\n",
      "174995  2023-06-30 22:50:57   2023-06-30 22:22:22          28.583333\n",
      "174996  2023-06-30 13:03:33   2023-06-30 14:04:57          61.400000\n",
      "174997  2023-06-29 11:03:32   2023-06-29 12:13:34          70.033333\n",
      "174998  2023-06-29 19:47:17   2023-06-29 19:08:55          38.366667\n",
      "174999  2023-06-30 21:26:43   2023-06-30 22:54:42          87.983333\n",
      "\n",
      "[175000 rows x 3 columns]\n"
     ]
    }
   ],
   "source": [
    "import pandas as pd\n",
    "\n",
    "# Converting the datetime columns to datetime objects\n",
    "train['tpep_pickup_datetime'] = pd.to_datetime(train['tpep_pickup_datetime'])\n",
    "train['tpep_dropoff_datetime'] = pd.to_datetime(train['tpep_dropoff_datetime'])\n",
    "\n",
    "# Calculateing the absolute minute difference between pickup and dropoff times\n",
    "train['minute_difference'] = abs((train['tpep_dropoff_datetime'] - train['tpep_pickup_datetime']).dt.total_seconds() / 60)\n",
    "\n",
    "# printing the updated DataFrame\n",
    "print(train[['tpep_pickup_datetime', 'tpep_dropoff_datetime', 'minute_difference']])"
   ]
  },
  {
   "cell_type": "markdown",
   "id": "0c13ce3d",
   "metadata": {
    "papermill": {
     "duration": 0.01828,
     "end_time": "2023-12-15T10:43:58.392812",
     "exception": false,
     "start_time": "2023-12-15T10:43:58.374532",
     "status": "completed"
    },
    "tags": []
   },
   "source": [
    "# Preprocessing on test data"
   ]
  },
  {
   "cell_type": "code",
   "execution_count": 14,
   "id": "a03731d4",
   "metadata": {
    "execution": {
     "iopub.execute_input": "2023-12-15T10:43:58.431216Z",
     "iopub.status.busy": "2023-12-15T10:43:58.430882Z",
     "iopub.status.idle": "2023-12-15T10:43:58.482793Z",
     "shell.execute_reply": "2023-12-15T10:43:58.481479Z"
    },
    "papermill": {
     "duration": 0.073619,
     "end_time": "2023-12-15T10:43:58.484945",
     "exception": false,
     "start_time": "2023-12-15T10:43:58.411326",
     "status": "completed"
    },
    "tags": []
   },
   "outputs": [
    {
     "name": "stdout",
     "output_type": "stream",
     "text": [
      "      tpep_pickup_datetime tpep_dropoff_datetime  minute_difference\n",
      "0      2023-06-29 00:21:20   2023-06-29 00:25:20           4.000000\n",
      "1      2023-06-30 17:44:43   2023-06-30 17:53:13           8.500000\n",
      "2      2023-06-29 18:17:04   2023-06-29 19:23:48          66.733333\n",
      "3      2023-06-30 21:33:53   2023-06-30 21:46:20          12.450000\n",
      "4      2023-06-29 14:53:54   2023-06-29 15:22:17          28.383333\n",
      "...                    ...                   ...                ...\n",
      "49995  2023-06-29 17:41:59   2023-06-29 18:30:36          48.616667\n",
      "49996  2023-06-30 01:25:25   2023-06-30 01:10:40          14.750000\n",
      "49997  2023-06-30 22:28:44   2023-06-30 21:49:37          39.116667\n",
      "49998  2023-06-30 02:37:18   2023-06-30 02:10:33          26.750000\n",
      "49999  2023-06-30 18:05:15   2023-06-30 17:15:16          49.983333\n",
      "\n",
      "[50000 rows x 3 columns]\n"
     ]
    }
   ],
   "source": [
    "import pandas as pd\n",
    "\n",
    "# Converting the datetime columns to datetime objects\n",
    "test['tpep_pickup_datetime'] = pd.to_datetime(test['tpep_pickup_datetime'])\n",
    "test['tpep_dropoff_datetime'] = pd.to_datetime(test['tpep_dropoff_datetime'])\n",
    "\n",
    "# Calculateing the absolute minute difference between pickup and dropoff times\n",
    "test['minute_difference'] = abs((test['tpep_dropoff_datetime'] - test['tpep_pickup_datetime']).dt.total_seconds() / 60)\n",
    "\n",
    "# printing the updated DataFrame\n",
    "print(test[['tpep_pickup_datetime', 'tpep_dropoff_datetime', 'minute_difference']])"
   ]
  },
  {
   "cell_type": "markdown",
   "id": "9285f1e4",
   "metadata": {
    "papermill": {
     "duration": 0.018386,
     "end_time": "2023-12-15T10:43:58.522515",
     "exception": false,
     "start_time": "2023-12-15T10:43:58.504129",
     "status": "completed"
    },
    "tags": []
   },
   "source": [
    "# Droping that datetime columns from both .csv"
   ]
  },
  {
   "cell_type": "code",
   "execution_count": 15,
   "id": "a8edf3a5",
   "metadata": {
    "execution": {
     "iopub.execute_input": "2023-12-15T10:43:58.561929Z",
     "iopub.status.busy": "2023-12-15T10:43:58.561111Z",
     "iopub.status.idle": "2023-12-15T10:43:58.575606Z",
     "shell.execute_reply": "2023-12-15T10:43:58.574759Z"
    },
    "papermill": {
     "duration": 0.036429,
     "end_time": "2023-12-15T10:43:58.577562",
     "exception": false,
     "start_time": "2023-12-15T10:43:58.541133",
     "status": "completed"
    },
    "tags": []
   },
   "outputs": [],
   "source": [
    "train=train.drop(['tpep_pickup_datetime','tpep_dropoff_datetime'], axis=1)\n",
    "test=test.drop(['tpep_pickup_datetime', 'tpep_dropoff_datetime'], axis=1)"
   ]
  },
  {
   "cell_type": "code",
   "execution_count": 16,
   "id": "51121ddd",
   "metadata": {
    "execution": {
     "iopub.execute_input": "2023-12-15T10:43:58.616430Z",
     "iopub.status.busy": "2023-12-15T10:43:58.616089Z",
     "iopub.status.idle": "2023-12-15T10:43:58.636339Z",
     "shell.execute_reply": "2023-12-15T10:43:58.635422Z"
    },
    "papermill": {
     "duration": 0.042052,
     "end_time": "2023-12-15T10:43:58.638406",
     "exception": false,
     "start_time": "2023-12-15T10:43:58.596354",
     "status": "completed"
    },
    "tags": []
   },
   "outputs": [
    {
     "data": {
      "text/html": [
       "<div>\n",
       "<style scoped>\n",
       "    .dataframe tbody tr th:only-of-type {\n",
       "        vertical-align: middle;\n",
       "    }\n",
       "\n",
       "    .dataframe tbody tr th {\n",
       "        vertical-align: top;\n",
       "    }\n",
       "\n",
       "    .dataframe thead th {\n",
       "        text-align: right;\n",
       "    }\n",
       "</style>\n",
       "<table border=\"1\" class=\"dataframe\">\n",
       "  <thead>\n",
       "    <tr style=\"text-align: right;\">\n",
       "      <th></th>\n",
       "      <th>VendorID</th>\n",
       "      <th>passenger_count</th>\n",
       "      <th>trip_distance</th>\n",
       "      <th>RatecodeID</th>\n",
       "      <th>store_and_fwd_flag</th>\n",
       "      <th>PULocationID</th>\n",
       "      <th>DOLocationID</th>\n",
       "      <th>payment_type</th>\n",
       "      <th>extra</th>\n",
       "      <th>tip_amount</th>\n",
       "      <th>tolls_amount</th>\n",
       "      <th>improvement_surcharge</th>\n",
       "      <th>total_amount</th>\n",
       "      <th>congestion_surcharge</th>\n",
       "      <th>Airport_fee</th>\n",
       "      <th>minute_difference</th>\n",
       "    </tr>\n",
       "  </thead>\n",
       "  <tbody>\n",
       "    <tr>\n",
       "      <th>0</th>\n",
       "      <td>1</td>\n",
       "      <td>1.0</td>\n",
       "      <td>2.14</td>\n",
       "      <td>1.0</td>\n",
       "      <td>0</td>\n",
       "      <td>120</td>\n",
       "      <td>9</td>\n",
       "      <td>1</td>\n",
       "      <td>2.5</td>\n",
       "      <td>7.165589</td>\n",
       "      <td>0.0</td>\n",
       "      <td>1.0</td>\n",
       "      <td>20.64</td>\n",
       "      <td>2.5</td>\n",
       "      <td>0.0</td>\n",
       "      <td>45.600000</td>\n",
       "    </tr>\n",
       "    <tr>\n",
       "      <th>1</th>\n",
       "      <td>0</td>\n",
       "      <td>1.0</td>\n",
       "      <td>2.70</td>\n",
       "      <td>1.0</td>\n",
       "      <td>0</td>\n",
       "      <td>15</td>\n",
       "      <td>215</td>\n",
       "      <td>1</td>\n",
       "      <td>3.5</td>\n",
       "      <td>6.067401</td>\n",
       "      <td>0.0</td>\n",
       "      <td>1.0</td>\n",
       "      <td>25.55</td>\n",
       "      <td>2.5</td>\n",
       "      <td>0.0</td>\n",
       "      <td>63.433333</td>\n",
       "    </tr>\n",
       "    <tr>\n",
       "      <th>2</th>\n",
       "      <td>1</td>\n",
       "      <td>1.0</td>\n",
       "      <td>1.15</td>\n",
       "      <td>1.0</td>\n",
       "      <td>0</td>\n",
       "      <td>167</td>\n",
       "      <td>223</td>\n",
       "      <td>1</td>\n",
       "      <td>0.0</td>\n",
       "      <td>4.111547</td>\n",
       "      <td>0.0</td>\n",
       "      <td>1.0</td>\n",
       "      <td>17.64</td>\n",
       "      <td>2.5</td>\n",
       "      <td>0.0</td>\n",
       "      <td>53.650000</td>\n",
       "    </tr>\n",
       "    <tr>\n",
       "      <th>3</th>\n",
       "      <td>0</td>\n",
       "      <td>1.0</td>\n",
       "      <td>0.40</td>\n",
       "      <td>1.0</td>\n",
       "      <td>0</td>\n",
       "      <td>128</td>\n",
       "      <td>239</td>\n",
       "      <td>1</td>\n",
       "      <td>2.5</td>\n",
       "      <td>6.411079</td>\n",
       "      <td>0.0</td>\n",
       "      <td>1.0</td>\n",
       "      <td>12.80</td>\n",
       "      <td>2.5</td>\n",
       "      <td>0.0</td>\n",
       "      <td>56.866667</td>\n",
       "    </tr>\n",
       "    <tr>\n",
       "      <th>4</th>\n",
       "      <td>1</td>\n",
       "      <td>3.0</td>\n",
       "      <td>1.10</td>\n",
       "      <td>1.0</td>\n",
       "      <td>0</td>\n",
       "      <td>203</td>\n",
       "      <td>52</td>\n",
       "      <td>1</td>\n",
       "      <td>1.0</td>\n",
       "      <td>4.769377</td>\n",
       "      <td>0.0</td>\n",
       "      <td>1.0</td>\n",
       "      <td>18.00</td>\n",
       "      <td>2.5</td>\n",
       "      <td>0.0</td>\n",
       "      <td>18.833333</td>\n",
       "    </tr>\n",
       "  </tbody>\n",
       "</table>\n",
       "</div>"
      ],
      "text/plain": [
       "   VendorID  passenger_count  trip_distance  RatecodeID  store_and_fwd_flag  \\\n",
       "0         1              1.0           2.14         1.0                   0   \n",
       "1         0              1.0           2.70         1.0                   0   \n",
       "2         1              1.0           1.15         1.0                   0   \n",
       "3         0              1.0           0.40         1.0                   0   \n",
       "4         1              3.0           1.10         1.0                   0   \n",
       "\n",
       "   PULocationID  DOLocationID  payment_type  extra  tip_amount  tolls_amount  \\\n",
       "0           120             9             1    2.5    7.165589           0.0   \n",
       "1            15           215             1    3.5    6.067401           0.0   \n",
       "2           167           223             1    0.0    4.111547           0.0   \n",
       "3           128           239             1    2.5    6.411079           0.0   \n",
       "4           203            52             1    1.0    4.769377           0.0   \n",
       "\n",
       "   improvement_surcharge  total_amount  congestion_surcharge  Airport_fee  \\\n",
       "0                    1.0         20.64                   2.5          0.0   \n",
       "1                    1.0         25.55                   2.5          0.0   \n",
       "2                    1.0         17.64                   2.5          0.0   \n",
       "3                    1.0         12.80                   2.5          0.0   \n",
       "4                    1.0         18.00                   2.5          0.0   \n",
       "\n",
       "   minute_difference  \n",
       "0          45.600000  \n",
       "1          63.433333  \n",
       "2          53.650000  \n",
       "3          56.866667  \n",
       "4          18.833333  "
      ]
     },
     "execution_count": 16,
     "metadata": {},
     "output_type": "execute_result"
    }
   ],
   "source": [
    "#Checking code are exicuting or not\n",
    "train.head(5)"
   ]
  },
  {
   "cell_type": "markdown",
   "id": "31b382eb",
   "metadata": {
    "papermill": {
     "duration": 0.018958,
     "end_time": "2023-12-15T10:43:58.676525",
     "exception": false,
     "start_time": "2023-12-15T10:43:58.657567",
     "status": "completed"
    },
    "tags": []
   },
   "source": [
    "# **EDA**"
   ]
  },
  {
   "cell_type": "code",
   "execution_count": 17,
   "id": "9003ade3",
   "metadata": {
    "execution": {
     "iopub.execute_input": "2023-12-15T10:43:58.715821Z",
     "iopub.status.busy": "2023-12-15T10:43:58.715492Z",
     "iopub.status.idle": "2023-12-15T10:43:59.180827Z",
     "shell.execute_reply": "2023-12-15T10:43:59.180061Z"
    },
    "papermill": {
     "duration": 0.487791,
     "end_time": "2023-12-15T10:43:59.183214",
     "exception": false,
     "start_time": "2023-12-15T10:43:58.695423",
     "status": "completed"
    },
    "tags": []
   },
   "outputs": [],
   "source": [
    "import pandas as pd\n",
    "import seaborn as sns\n",
    "import matplotlib.pyplot as plt"
   ]
  },
  {
   "cell_type": "code",
   "execution_count": 18,
   "id": "fd9be3e0",
   "metadata": {
    "execution": {
     "iopub.execute_input": "2023-12-15T10:43:59.223720Z",
     "iopub.status.busy": "2023-12-15T10:43:59.223092Z",
     "iopub.status.idle": "2023-12-15T10:43:59.234098Z",
     "shell.execute_reply": "2023-12-15T10:43:59.233269Z"
    },
    "papermill": {
     "duration": 0.03302,
     "end_time": "2023-12-15T10:43:59.235926",
     "exception": false,
     "start_time": "2023-12-15T10:43:59.202906",
     "status": "completed"
    },
    "tags": []
   },
   "outputs": [
    {
     "data": {
      "text/plain": [
       "VendorID                    0\n",
       "passenger_count          6077\n",
       "trip_distance               0\n",
       "RatecodeID               6077\n",
       "store_and_fwd_flag          0\n",
       "PULocationID                0\n",
       "DOLocationID                0\n",
       "payment_type                0\n",
       "extra                       0\n",
       "tip_amount                  0\n",
       "tolls_amount                0\n",
       "improvement_surcharge       0\n",
       "total_amount                0\n",
       "congestion_surcharge     6077\n",
       "Airport_fee              6077\n",
       "minute_difference           0\n",
       "dtype: int64"
      ]
     },
     "execution_count": 18,
     "metadata": {},
     "output_type": "execute_result"
    }
   ],
   "source": [
    "train.isnull().sum()"
   ]
  },
  {
   "cell_type": "code",
   "execution_count": 19,
   "id": "14f67780",
   "metadata": {
    "execution": {
     "iopub.execute_input": "2023-12-15T10:43:59.276381Z",
     "iopub.status.busy": "2023-12-15T10:43:59.275720Z",
     "iopub.status.idle": "2023-12-15T10:43:59.295081Z",
     "shell.execute_reply": "2023-12-15T10:43:59.294126Z"
    },
    "papermill": {
     "duration": 0.042037,
     "end_time": "2023-12-15T10:43:59.297421",
     "exception": false,
     "start_time": "2023-12-15T10:43:59.255384",
     "status": "completed"
    },
    "tags": []
   },
   "outputs": [
    {
     "name": "stdout",
     "output_type": "stream",
     "text": [
      "passenger_count\n",
      "1.0    128534\n",
      "2.0     24316\n",
      "3.0      6018\n",
      "4.0      3668\n",
      "0.0      2818\n",
      "5.0      1970\n",
      "6.0      1596\n",
      "8.0         2\n",
      "9.0         1\n",
      "Name: count, dtype: int64\n",
      "RatecodeID\n",
      "1.0     158652\n",
      "2.0       7314\n",
      "5.0       1036\n",
      "99.0       748\n",
      "3.0        727\n",
      "4.0        446\n",
      "Name: count, dtype: int64\n",
      "congestion_surcharge\n",
      " 2.5    153212\n",
      " 0.0     14325\n",
      "-2.5      1386\n",
      "Name: count, dtype: int64\n",
      "Airport_fee\n",
      " 0.00    153074\n",
      " 1.75     15590\n",
      "-1.75       259\n",
      "Name: count, dtype: int64\n"
     ]
    }
   ],
   "source": [
    "print(train.passenger_count.value_counts())\n",
    "print(train.RatecodeID.value_counts())\n",
    "print(train.congestion_surcharge.value_counts())\n",
    "print(train.Airport_fee.value_counts())"
   ]
  },
  {
   "cell_type": "code",
   "execution_count": 20,
   "id": "63b4360e",
   "metadata": {
    "execution": {
     "iopub.execute_input": "2023-12-15T10:43:59.337100Z",
     "iopub.status.busy": "2023-12-15T10:43:59.336793Z",
     "iopub.status.idle": "2023-12-15T10:43:59.345180Z",
     "shell.execute_reply": "2023-12-15T10:43:59.344093Z"
    },
    "papermill": {
     "duration": 0.030483,
     "end_time": "2023-12-15T10:43:59.347161",
     "exception": false,
     "start_time": "2023-12-15T10:43:59.316678",
     "status": "completed"
    },
    "tags": []
   },
   "outputs": [
    {
     "data": {
      "text/plain": [
       "VendorID                    0\n",
       "passenger_count          1779\n",
       "trip_distance               0\n",
       "RatecodeID               1779\n",
       "store_and_fwd_flag          0\n",
       "PULocationID                0\n",
       "DOLocationID                0\n",
       "payment_type                0\n",
       "extra                       0\n",
       "tip_amount                  0\n",
       "tolls_amount                0\n",
       "improvement_surcharge       0\n",
       "congestion_surcharge     1779\n",
       "Airport_fee              1779\n",
       "minute_difference           0\n",
       "dtype: int64"
      ]
     },
     "execution_count": 20,
     "metadata": {},
     "output_type": "execute_result"
    }
   ],
   "source": [
    "test.isnull().sum()"
   ]
  },
  {
   "cell_type": "code",
   "execution_count": 21,
   "id": "677a58db",
   "metadata": {
    "execution": {
     "iopub.execute_input": "2023-12-15T10:43:59.387662Z",
     "iopub.status.busy": "2023-12-15T10:43:59.387281Z",
     "iopub.status.idle": "2023-12-15T10:43:59.400694Z",
     "shell.execute_reply": "2023-12-15T10:43:59.399742Z"
    },
    "papermill": {
     "duration": 0.035575,
     "end_time": "2023-12-15T10:43:59.402651",
     "exception": false,
     "start_time": "2023-12-15T10:43:59.367076",
     "status": "completed"
    },
    "tags": []
   },
   "outputs": [],
   "source": [
    "# we Separate the target variable \n",
    "X_train = train.drop(['total_amount'], axis=1)\n",
    "y_train = train['total_amount']\n",
    "\n"
   ]
  },
  {
   "cell_type": "markdown",
   "id": "92d0fe38",
   "metadata": {
    "papermill": {
     "duration": 0.019205,
     "end_time": "2023-12-15T10:43:59.441633",
     "exception": false,
     "start_time": "2023-12-15T10:43:59.422428",
     "status": "completed"
    },
    "tags": []
   },
   "source": [
    "# **Distribution of Target Variable(total_amount)**"
   ]
  },
  {
   "cell_type": "markdown",
   "id": "825c8458",
   "metadata": {
    "papermill": {
     "duration": 0.019081,
     "end_time": "2023-12-15T10:43:59.480317",
     "exception": false,
     "start_time": "2023-12-15T10:43:59.461236",
     "status": "completed"
    },
    "tags": []
   },
   "source": [
    "**We are ploting QQ Plot(Quantile-Quantile Plot). The perpouse for ploting this graph is to analysis to checking normality.**\n",
    "\n",
    "***Analysing normality is important because Knowing the normality of a dataset is important for several reasons, especially in the context of statistical analysis and hypothesis testing.****\n",
    "\n"
   ]
  },
  {
   "cell_type": "code",
   "execution_count": 22,
   "id": "3f368f5d",
   "metadata": {
    "execution": {
     "iopub.execute_input": "2023-12-15T10:43:59.520474Z",
     "iopub.status.busy": "2023-12-15T10:43:59.520146Z",
     "iopub.status.idle": "2023-12-15T10:44:01.397760Z",
     "shell.execute_reply": "2023-12-15T10:44:01.396900Z"
    },
    "papermill": {
     "duration": 1.900413,
     "end_time": "2023-12-15T10:44:01.400043",
     "exception": false,
     "start_time": "2023-12-15T10:43:59.499630",
     "status": "completed"
    },
    "tags": []
   },
   "outputs": [
    {
     "data": {
      "image/png": "[encoded data removed]",
      "text/plain": [
       "<Figure size 640x480 with 1 Axes>"
      ]
     },
     "metadata": {},
     "output_type": "display_data"
    }
   ],
   "source": [
    "import statsmodels.api as sm\n",
    "\n",
    "sm.qqplot(train['total_amount'], line='s')\n",
    "plt.title('QQ Plot of Target Variable')\n",
    "plt.show()\n"
   ]
  },
  {
   "cell_type": "markdown",
   "id": "b89ec115",
   "metadata": {
    "papermill": {
     "duration": 0.019827,
     "end_time": "2023-12-15T10:44:01.440126",
     "exception": false,
     "start_time": "2023-12-15T10:44:01.420299",
     "status": "completed"
    },
    "tags": []
   },
   "source": [
    "**We ploted QQ Plot(Quantile-Quantile Plot). The perpouse for ploting this graph is to analysis to checking normality.**\n",
    "\n",
    "the points are deviating from the line, it indicates departures from normality.\n",
    "\n",
    "**Heavy Tails:** Tails bending upward or downward may indicate heavy-tailed distributions.\n",
    "\n",
    "**S-shaped Curve:** An S-shaped curve may suggest skewness.\n",
    "\n",
    "**Outliers:**\n",
    "\n",
    "Outliers on the QQ plot can also indicate departures from normality. Here tail are long so we can say that may not be consistent with a normal distribution.\n",
    "\n"
   ]
  },
  {
   "cell_type": "code",
   "execution_count": 23,
   "id": "55b2c37a",
   "metadata": {
    "execution": {
     "iopub.execute_input": "2023-12-15T10:44:01.482158Z",
     "iopub.status.busy": "2023-12-15T10:44:01.481502Z",
     "iopub.status.idle": "2023-12-15T10:44:02.612808Z",
     "shell.execute_reply": "2023-12-15T10:44:02.611917Z"
    },
    "papermill": {
     "duration": 1.154933,
     "end_time": "2023-12-15T10:44:02.615016",
     "exception": false,
     "start_time": "2023-12-15T10:44:01.460083",
     "status": "completed"
    },
    "tags": []
   },
   "outputs": [
    {
     "name": "stderr",
     "output_type": "stream",
     "text": [
      "/tmp/ipykernel_26/4231008052.py:3: FutureWarning: \n",
      "\n",
      "`shade` is now deprecated in favor of `fill`; setting `fill=True`.\n",
      "This will become an error in seaborn v0.14.0; please update your code.\n",
      "\n",
      "  sns.kdeplot(train['total_amount'], shade=True)\n"
     ]
    },
    {
     "data": {
      "image/png": "[encoded data removed]",
      "text/plain": [
       "<Figure size 640x480 with 1 Axes>"
      ]
     },
     "metadata": {},
     "output_type": "display_data"
    }
   ],
   "source": [
    "import seaborn as sns\n",
    "\n",
    "sns.kdeplot(train['total_amount'], shade=True)\n",
    "plt.title('Kernel Density Plot of Target Variable')\n",
    "plt.xlabel('total_amount')\n",
    "plt.ylabel('Density')\n",
    "plt.show()\n"
   ]
  },
  {
   "cell_type": "markdown",
   "id": "38b21c2d",
   "metadata": {
    "papermill": {
     "duration": 0.020359,
     "end_time": "2023-12-15T10:44:02.656189",
     "exception": false,
     "start_time": "2023-12-15T10:44:02.635830",
     "status": "completed"
    },
    "tags": []
   },
   "source": [
    "**Here we plotted a kernel density plot, we can identify patterns in the data and understand density by visually inspecting the shape of the plot. Here are some key aspects to consider when we are interpreting a kernel density plot:**\n",
    "\n",
    "**It is Unimodal:** A single peak suggests a unimodal distribution, indicating one dominant mode or central tendency in the data.Here we can see single peak so it is ***unimodel***\n",
    "\n",
    "**it is Positively-Skewed:** If the plot is skewed to the left (negatively skewed) or to the right (positively skewed), it indicates an asymmetry in the distribution.Here we are seeing that plot is skewed to the right so it is ***positively-skewed***"
   ]
  },
  {
   "cell_type": "markdown",
   "id": "80e0c148",
   "metadata": {
    "papermill": {
     "duration": 0.020144,
     "end_time": "2023-12-15T10:44:02.696631",
     "exception": false,
     "start_time": "2023-12-15T10:44:02.676487",
     "status": "completed"
    },
    "tags": []
   },
   "source": [
    "log og this data\n"
   ]
  },
  {
   "cell_type": "code",
   "execution_count": 24,
   "id": "e8c30171",
   "metadata": {
    "execution": {
     "iopub.execute_input": "2023-12-15T10:44:02.739055Z",
     "iopub.status.busy": "2023-12-15T10:44:02.738672Z",
     "iopub.status.idle": "2023-12-15T10:44:02.744872Z",
     "shell.execute_reply": "2023-12-15T10:44:02.743802Z"
    },
    "papermill": {
     "duration": 0.029706,
     "end_time": "2023-12-15T10:44:02.746809",
     "exception": false,
     "start_time": "2023-12-15T10:44:02.717103",
     "status": "completed"
    },
    "tags": []
   },
   "outputs": [
    {
     "data": {
      "text/plain": [
       "(175000, 15)"
      ]
     },
     "execution_count": 24,
     "metadata": {},
     "output_type": "execute_result"
    }
   ],
   "source": [
    "X_train.shape"
   ]
  },
  {
   "cell_type": "markdown",
   "id": "07c497f5",
   "metadata": {
    "papermill": {
     "duration": 0.020184,
     "end_time": "2023-12-15T10:44:02.787498",
     "exception": false,
     "start_time": "2023-12-15T10:44:02.767314",
     "status": "completed"
    },
    "tags": []
   },
   "source": [
    "# **Removing Outlier**\n",
    "\n",
    "# Removing Outlier of train data"
   ]
  },
  {
   "cell_type": "markdown",
   "id": "5ab53fff",
   "metadata": {
    "papermill": {
     "duration": 0.021404,
     "end_time": "2023-12-15T10:44:02.830576",
     "exception": false,
     "start_time": "2023-12-15T10:44:02.809172",
     "status": "completed"
    },
    "tags": []
   },
   "source": [
    "# Removing Outlier of test data"
   ]
  },
  {
   "cell_type": "markdown",
   "id": "8fbc2fc6",
   "metadata": {
    "papermill": {
     "duration": 0.020628,
     "end_time": "2023-12-15T10:44:02.872116",
     "exception": false,
     "start_time": "2023-12-15T10:44:02.851488",
     "status": "completed"
    },
    "tags": []
   },
   "source": [
    "# Calculating Co-Relation Matrix and Ploting Heatmap\n",
    "**With help of these heatmap we can clearly know that how much these variable are important with each-other**"
   ]
  },
  {
   "cell_type": "code",
   "execution_count": 25,
   "id": "3c90b7f4",
   "metadata": {
    "execution": {
     "iopub.execute_input": "2023-12-15T10:44:02.916773Z",
     "iopub.status.busy": "2023-12-15T10:44:02.916175Z",
     "iopub.status.idle": "2023-12-15T10:44:04.012318Z",
     "shell.execute_reply": "2023-12-15T10:44:04.011448Z"
    },
    "papermill": {
     "duration": 1.123169,
     "end_time": "2023-12-15T10:44:04.015952",
     "exception": false,
     "start_time": "2023-12-15T10:44:02.892783",
     "status": "completed"
    },
    "tags": []
   },
   "outputs": [
    {
     "data": {
      "image/png": "[encoded data removed]",
      "text/plain": [
       "<Figure size 1200x1000 with 2 Axes>"
      ]
     },
     "metadata": {},
     "output_type": "display_data"
    }
   ],
   "source": [
    "# Calculate the correlation matrix\n",
    "correlation_matrix = X_train.corr()\n",
    "\n",
    "# Create a heatmap\n",
    "plt.figure(figsize=(12, 10))                                                    #deciding size of Map\n",
    "sns.heatmap(correlation_matrix, annot=True, cmap='coolwarm', fmt=\".2f\")\n",
    "plt.title('Correlation Heatmap of Features')                                    #Heading of Map\n",
    "plt.show()"
   ]
  },
  {
   "cell_type": "code",
   "execution_count": null,
   "id": "6125baa2",
   "metadata": {
    "papermill": {
     "duration": 0.022811,
     "end_time": "2023-12-15T10:44:04.062094",
     "exception": false,
     "start_time": "2023-12-15T10:44:04.039283",
     "status": "completed"
    },
    "tags": []
   },
   "outputs": [],
   "source": []
  },
  {
   "cell_type": "markdown",
   "id": "d22f1033",
   "metadata": {
    "papermill": {
     "duration": 0.022856,
     "end_time": "2023-12-15T10:44:04.108315",
     "exception": false,
     "start_time": "2023-12-15T10:44:04.085459",
     "status": "completed"
    },
    "tags": []
   },
   "source": [
    "#  **Feature Selection**\n",
    " *****with the help of this code we are trying to know about wich feature are most imortent for traget variable in the prediction.\n",
    " so this code will help to know rankwise which code is impotant******"
   ]
  },
  {
   "cell_type": "markdown",
   "id": "2a6c7daf",
   "metadata": {
    "papermill": {
     "duration": 0.022922,
     "end_time": "2023-12-15T10:44:04.154201",
     "exception": false,
     "start_time": "2023-12-15T10:44:04.131279",
     "status": "completed"
    },
    "tags": []
   },
   "source": [
    "**In feature selection process we write code to know feature importance and plote Bar chart**\n",
    "\n",
    "**we can clearly indentify which feature is important for target variable **\n",
    "\n",
    "**Most Important Feature:**\n",
    "\n",
    "trip_distance---0.726841\n",
    "\n",
    " tip_amount---0.091192\n",
    " \n",
    " improvement_surcharge---0.086165\n",
    " \n",
    " tolls_amount---0.046685\n",
    " \n",
    " RatecodeID---0.042982\n",
    " \n",
    " extra---0.002735\n",
    " \n",
    " **Impotant:**\n",
    " \n",
    "VendorID--0.000869\n",
    "\n",
    "congestion_surcharge--0.000768\n",
    "\n",
    "payment_type---0.000645\n",
    "\n",
    "minute_difference---0.000459\n",
    "\n",
    "store_and_fwd_flag---0.000287\n",
    "\n",
    "DOLocationID---0.000198\n",
    "\n",
    "PULocationID---0.000169\n",
    "\n",
    "**Not Important:**\n",
    "\n",
    "passenger_count---0.000005\n",
    "\n",
    "Airport_fee---0.000000\n",
    "\n",
    " \n"
   ]
  },
  {
   "cell_type": "markdown",
   "id": "0cc881d9",
   "metadata": {
    "papermill": {
     "duration": 0.022946,
     "end_time": "2023-12-15T10:44:04.200023",
     "exception": false,
     "start_time": "2023-12-15T10:44:04.177077",
     "status": "completed"
    },
    "tags": []
   },
   "source": [
    "# Spliting to train data\n"
   ]
  },
  {
   "cell_type": "code",
   "execution_count": 26,
   "id": "2c421cdc",
   "metadata": {
    "execution": {
     "iopub.execute_input": "2023-12-15T10:44:04.249144Z",
     "iopub.status.busy": "2023-12-15T10:44:04.248299Z",
     "iopub.status.idle": "2023-12-15T10:44:04.367115Z",
     "shell.execute_reply": "2023-12-15T10:44:04.366116Z"
    },
    "papermill": {
     "duration": 0.146291,
     "end_time": "2023-12-15T10:44:04.369633",
     "exception": false,
     "start_time": "2023-12-15T10:44:04.223342",
     "status": "completed"
    },
    "tags": []
   },
   "outputs": [],
   "source": [
    "from sklearn.model_selection import train_test_split\n",
    "from sklearn.metrics import mean_squared_error, r2_score\n",
    "\n",
    "# Spliting the training data into a training set and a validation set\n",
    "X_train_split, X_val, y_train_split, y_val = train_test_split(X_train, y_train, test_size=0.1, random_state=42)\n"
   ]
  },
  {
   "cell_type": "markdown",
   "id": "1b3ec6b2",
   "metadata": {
    "papermill": {
     "duration": 0.023438,
     "end_time": "2023-12-15T10:44:04.416908",
     "exception": false,
     "start_time": "2023-12-15T10:44:04.393470",
     "status": "completed"
    },
    "tags": []
   },
   "source": [
    "# PipeLine\n",
    "* **scaling to the data with help of StandardScaler**\n",
    "* **Imputing missing Values witth SimpleImputer and strategy will mean**"
   ]
  },
  {
   "cell_type": "code",
   "execution_count": 27,
   "id": "408f0f31",
   "metadata": {
    "execution": {
     "iopub.execute_input": "2023-12-15T10:44:04.465603Z",
     "iopub.status.busy": "2023-12-15T10:44:04.464708Z",
     "iopub.status.idle": "2023-12-15T10:44:04.658296Z",
     "shell.execute_reply": "2023-12-15T10:44:04.657493Z"
    },
    "papermill": {
     "duration": 0.220436,
     "end_time": "2023-12-15T10:44:04.660568",
     "exception": false,
     "start_time": "2023-12-15T10:44:04.440132",
     "status": "completed"
    },
    "tags": []
   },
   "outputs": [],
   "source": [
    "from sklearn.impute import SimpleImputer\n",
    "from sklearn.preprocessing import StandardScaler\n",
    "from sklearn.pipeline import Pipeline\n",
    "# Preprocessing for numerical data\n",
    "numerical_transformer = Pipeline(steps=[\n",
    "    ('imputer', SimpleImputer(strategy='median')),  # Impute missing values with median\n",
    "    ('scaler', StandardScaler())                    # Scale features to zero mean and unit variance\n",
    " ])"
   ]
  },
  {
   "cell_type": "markdown",
   "id": "17267bb2",
   "metadata": {
    "papermill": {
     "duration": 0.022786,
     "end_time": "2023-12-15T10:44:04.706758",
     "exception": false,
     "start_time": "2023-12-15T10:44:04.683972",
     "status": "completed"
    },
    "tags": []
   },
   "source": [
    "# Transformation Of Data"
   ]
  },
  {
   "cell_type": "code",
   "execution_count": 28,
   "id": "ea82aff7",
   "metadata": {
    "execution": {
     "iopub.execute_input": "2023-12-15T10:44:04.754067Z",
     "iopub.status.busy": "2023-12-15T10:44:04.753408Z",
     "iopub.status.idle": "2023-12-15T10:44:05.345916Z",
     "shell.execute_reply": "2023-12-15T10:44:05.345106Z"
    },
    "papermill": {
     "duration": 0.618886,
     "end_time": "2023-12-15T10:44:05.348260",
     "exception": false,
     "start_time": "2023-12-15T10:44:04.729374",
     "status": "completed"
    },
    "tags": []
   },
   "outputs": [],
   "source": [
    "# Applying the transformations to the training data\n",
    "X_train_transformed = numerical_transformer.fit_transform(X_train)\n",
    "\n",
    "# Applying the transformations to the training and validation sets after split\n",
    "X_train_split_transformed = numerical_transformer.fit_transform(X_train_split)\n",
    "X_val_transformed = numerical_transformer.transform(X_val)"
   ]
  },
  {
   "cell_type": "code",
   "execution_count": 29,
   "id": "0dad8214",
   "metadata": {
    "execution": {
     "iopub.execute_input": "2023-12-15T10:44:05.396418Z",
     "iopub.status.busy": "2023-12-15T10:44:05.395794Z",
     "iopub.status.idle": "2023-12-15T10:44:05.672523Z",
     "shell.execute_reply": "2023-12-15T10:44:05.671563Z"
    },
    "papermill": {
     "duration": 0.303413,
     "end_time": "2023-12-15T10:44:05.675019",
     "exception": false,
     "start_time": "2023-12-15T10:44:05.371606",
     "status": "completed"
    },
    "tags": []
   },
   "outputs": [],
   "source": [
    "import pandas as pd\n",
    "from sklearn.model_selection import train_test_split\n",
    "from sklearn.ensemble import GradientBoostingRegressor\n",
    "from sklearn.linear_model import LinearRegression\n",
    "from sklearn.ensemble import RandomForestRegressor\n",
    "import xgboost as xgb\n"
   ]
  },
  {
   "cell_type": "markdown",
   "id": "a8a8a82e",
   "metadata": {
    "papermill": {
     "duration": 0.022976,
     "end_time": "2023-12-15T10:44:05.721543",
     "exception": false,
     "start_time": "2023-12-15T10:44:05.698567",
     "status": "completed"
    },
    "tags": []
   },
   "source": [
    "# Fitting Diff. Type Of Models"
   ]
  },
  {
   "cell_type": "code",
   "execution_count": 30,
   "id": "ebdc3ad1",
   "metadata": {
    "execution": {
     "iopub.execute_input": "2023-12-15T10:44:05.769896Z",
     "iopub.status.busy": "2023-12-15T10:44:05.769172Z",
     "iopub.status.idle": "2023-12-15T10:46:48.890973Z",
     "shell.execute_reply": "2023-12-15T10:46:48.889995Z"
    },
    "papermill": {
     "duration": 163.172643,
     "end_time": "2023-12-15T10:46:48.917401",
     "exception": false,
     "start_time": "2023-12-15T10:44:05.744758",
     "status": "completed"
    },
    "tags": []
   },
   "outputs": [
    {
     "data": {
      "text/html": [
       "<style>#sk-container-id-1 {color: black;background-color: white;}#sk-container-id-1 pre{padding: 0;}#sk-container-id-1 div.sk-toggleable {background-color: white;}#sk-container-id-1 label.sk-toggleable__label {cursor: pointer;display: block;width: 100%;margin-bottom: 0;padding: 0.3em;box-sizing: border-box;text-align: center;}#sk-container-id-1 label.sk-toggleable__label-arrow:before {content: \"▸\";float: left;margin-right: 0.25em;color: #696969;}#sk-container-id-1 label.sk-toggleable__label-arrow:hover:before {color: black;}#sk-container-id-1 div.sk-estimator:hover label.sk-toggleable__label-arrow:before {color: black;}#sk-container-id-1 div.sk-toggleable__content {max-height: 0;max-width: 0;overflow: hidden;text-align: left;background-color: #f0f8ff;}#sk-container-id-1 div.sk-toggleable__content pre {margin: 0.2em;color: black;border-radius: 0.25em;background-color: #f0f8ff;}#sk-container-id-1 input.sk-toggleable__control:checked~div.sk-toggleable__content {max-height: 200px;max-width: 100%;overflow: auto;}#sk-container-id-1 input.sk-toggleable__control:checked~label.sk-toggleable__label-arrow:before {content: \"▾\";}#sk-container-id-1 div.sk-estimator input.sk-toggleable__control:checked~label.sk-toggleable__label {background-color: #d4ebff;}#sk-container-id-1 div.sk-label input.sk-toggleable__control:checked~label.sk-toggleable__label {background-color: #d4ebff;}#sk-container-id-1 input.sk-hidden--visually {border: 0;clip: rect(1px 1px 1px 1px);clip: rect(1px, 1px, 1px, 1px);height: 1px;margin: -1px;overflow: hidden;padding: 0;position: absolute;width: 1px;}#sk-container-id-1 div.sk-estimator {font-family: monospace;background-color: #f0f8ff;border: 1px dotted black;border-radius: 0.25em;box-sizing: border-box;margin-bottom: 0.5em;}#sk-container-id-1 div.sk-estimator:hover {background-color: #d4ebff;}#sk-container-id-1 div.sk-parallel-item::after {content: \"\";width: 100%;border-bottom: 1px solid gray;flex-grow: 1;}#sk-container-id-1 div.sk-label:hover label.sk-toggleable__label {background-color: #d4ebff;}#sk-container-id-1 div.sk-serial::before {content: \"\";position: absolute;border-left: 1px solid gray;box-sizing: border-box;top: 0;bottom: 0;left: 50%;z-index: 0;}#sk-container-id-1 div.sk-serial {display: flex;flex-direction: column;align-items: center;background-color: white;padding-right: 0.2em;padding-left: 0.2em;position: relative;}#sk-container-id-1 div.sk-item {position: relative;z-index: 1;}#sk-container-id-1 div.sk-parallel {display: flex;align-items: stretch;justify-content: center;background-color: white;position: relative;}#sk-container-id-1 div.sk-item::before, #sk-container-id-1 div.sk-parallel-item::before {content: \"\";position: absolute;border-left: 1px solid gray;box-sizing: border-box;top: 0;bottom: 0;left: 50%;z-index: -1;}#sk-container-id-1 div.sk-parallel-item {display: flex;flex-direction: column;z-index: 1;position: relative;background-color: white;}#sk-container-id-1 div.sk-parallel-item:first-child::after {align-self: flex-end;width: 50%;}#sk-container-id-1 div.sk-parallel-item:last-child::after {align-self: flex-start;width: 50%;}#sk-container-id-1 div.sk-parallel-item:only-child::after {width: 0;}#sk-container-id-1 div.sk-dashed-wrapped {border: 1px dashed gray;margin: 0 0.4em 0.5em 0.4em;box-sizing: border-box;padding-bottom: 0.4em;background-color: white;}#sk-container-id-1 div.sk-label label {font-family: monospace;font-weight: bold;display: inline-block;line-height: 1.2em;}#sk-container-id-1 div.sk-label-container {text-align: center;}#sk-container-id-1 div.sk-container {/* jupyter's `normalize.less` sets `[hidden] { display: none; }` but bootstrap.min.css set `[hidden] { display: none !important; }` so we also need the `!important` here to be able to override the default hidden behavior on the sphinx rendered scikit-learn.org. See: https://github.com/scikit-learn/scikit-learn/issues/21755 */display: inline-block !important;position: relative;}#sk-container-id-1 div.sk-text-repr-fallback {display: none;}</style><div id=\"sk-container-id-1\" class=\"sk-top-container\"><div class=\"sk-text-repr-fallback\"><pre>XGBRegressor(base_score=None, booster=None, callbacks=None,\n",
       "             colsample_bylevel=None, colsample_bynode=None,\n",
       "             colsample_bytree=None, early_stopping_rounds=None,\n",
       "             enable_categorical=False, eval_metric=None, feature_types=None,\n",
       "             gamma=None, gpu_id=None, grow_policy=None, importance_type=None,\n",
       "             interaction_constraints=None, learning_rate=None, max_bin=None,\n",
       "             max_cat_threshold=None, max_cat_to_onehot=None,\n",
       "             max_delta_step=None, max_depth=None, max_leaves=None,\n",
       "             min_child_weight=None, missing=nan, monotone_constraints=None,\n",
       "             n_estimators=100, n_jobs=None, num_parallel_tree=None,\n",
       "             predictor=None, random_state=None, ...)</pre><b>In a Jupyter environment, please rerun this cell to show the HTML representation or trust the notebook. <br />On GitHub, the HTML representation is unable to render, please try loading this page with nbviewer.org.</b></div><div class=\"sk-container\" hidden><div class=\"sk-item\"><div class=\"sk-estimator sk-toggleable\"><input class=\"sk-toggleable__control sk-hidden--visually\" id=\"sk-estimator-id-1\" type=\"checkbox\" checked><label for=\"sk-estimator-id-1\" class=\"sk-toggleable__label sk-toggleable__label-arrow\">XGBRegressor</label><div class=\"sk-toggleable__content\"><pre>XGBRegressor(base_score=None, booster=None, callbacks=None,\n",
       "             colsample_bylevel=None, colsample_bynode=None,\n",
       "             colsample_bytree=None, early_stopping_rounds=None,\n",
       "             enable_categorical=False, eval_metric=None, feature_types=None,\n",
       "             gamma=None, gpu_id=None, grow_policy=None, importance_type=None,\n",
       "             interaction_constraints=None, learning_rate=None, max_bin=None,\n",
       "             max_cat_threshold=None, max_cat_to_onehot=None,\n",
       "             max_delta_step=None, max_depth=None, max_leaves=None,\n",
       "             min_child_weight=None, missing=nan, monotone_constraints=None,\n",
       "             n_estimators=100, n_jobs=None, num_parallel_tree=None,\n",
       "             predictor=None, random_state=None, ...)</pre></div></div></div></div></div>"
      ],
      "text/plain": [
       "XGBRegressor(base_score=None, booster=None, callbacks=None,\n",
       "             colsample_bylevel=None, colsample_bynode=None,\n",
       "             colsample_bytree=None, early_stopping_rounds=None,\n",
       "             enable_categorical=False, eval_metric=None, feature_types=None,\n",
       "             gamma=None, gpu_id=None, grow_policy=None, importance_type=None,\n",
       "             interaction_constraints=None, learning_rate=None, max_bin=None,\n",
       "             max_cat_threshold=None, max_cat_to_onehot=None,\n",
       "             max_delta_step=None, max_depth=None, max_leaves=None,\n",
       "             min_child_weight=None, missing=nan, monotone_constraints=None,\n",
       "             n_estimators=100, n_jobs=None, num_parallel_tree=None,\n",
       "             predictor=None, random_state=None, ...)"
      ]
     },
     "execution_count": 30,
     "metadata": {},
     "output_type": "execute_result"
    }
   ],
   "source": [
    "model = GradientBoostingRegressor()\n",
    "model1=LinearRegression()\n",
    "model2 = RandomForestRegressor(n_estimators=100, random_state=42)\n",
    "model3= xgb.XGBRegressor(objective='reg:squarederror', n_estimators=100, seed=42)\n",
    "\n",
    "# Fitting the model \n",
    "model.fit(X_train_transformed, y_train)\n",
    "model1.fit(X_train_transformed, y_train)\n",
    "model2.fit(X_train_transformed, y_train)\n",
    "model3.fit(X_train_transformed, y_train)\n"
   ]
  },
  {
   "cell_type": "markdown",
   "id": "898f6572",
   "metadata": {
    "papermill": {
     "duration": 0.023922,
     "end_time": "2023-12-15T10:46:48.965584",
     "exception": false,
     "start_time": "2023-12-15T10:46:48.941662",
     "status": "completed"
    },
    "tags": []
   },
   "source": [
    "# Pridiction of gvjx on Train Data"
   ]
  },
  {
   "cell_type": "markdown",
   "id": "908ed91c",
   "metadata": {
    "papermill": {
     "duration": 0.023608,
     "end_time": "2023-12-15T10:46:49.013206",
     "exception": false,
     "start_time": "2023-12-15T10:46:48.989598",
     "status": "completed"
    },
    "tags": []
   },
   "source": [
    "# GradientBoostingRegressor"
   ]
  },
  {
   "cell_type": "code",
   "execution_count": 31,
   "id": "ff09ddf8",
   "metadata": {
    "execution": {
     "iopub.execute_input": "2023-12-15T10:46:49.064107Z",
     "iopub.status.busy": "2023-12-15T10:46:49.063354Z",
     "iopub.status.idle": "2023-12-15T10:46:49.090991Z",
     "shell.execute_reply": "2023-12-15T10:46:49.089810Z"
    },
    "papermill": {
     "duration": 0.055355,
     "end_time": "2023-12-15T10:46:49.093000",
     "exception": false,
     "start_time": "2023-12-15T10:46:49.037645",
     "status": "completed"
    },
    "tags": []
   },
   "outputs": [
    {
     "name": "stdout",
     "output_type": "stream",
     "text": [
      "Mean Squared Error: 34.433642638498696\n",
      "R^2 Score: 0.948296820180285\n"
     ]
    }
   ],
   "source": [
    "\n",
    "# Training the model on the training set\n",
    "y_val_pred = model.predict(X_val_transformed)\n",
    "\n",
    "# Evaluateing the model on the validation set\n",
    "mse = mean_squared_error(y_val, y_val_pred)\n",
    "print(f'Mean Squared Error: {mse}')\n",
    "\n",
    "r2 = r2_score(y_val, y_val_pred)\n",
    "print(f'R^2 Score: {r2}')\n"
   ]
  },
  {
   "cell_type": "markdown",
   "id": "b667b646",
   "metadata": {
    "papermill": {
     "duration": 0.023784,
     "end_time": "2023-12-15T10:46:49.140718",
     "exception": false,
     "start_time": "2023-12-15T10:46:49.116934",
     "status": "completed"
    },
    "tags": []
   },
   "source": [
    "Gradient Boosting Regressor is a powerful algorithm widely used in various regression tasks. Its ability to iteratively correct errors and build a strong predictive model makes it suitable for a wide range of applications. "
   ]
  },
  {
   "cell_type": "markdown",
   "id": "1199c36a",
   "metadata": {
    "papermill": {
     "duration": 0.023967,
     "end_time": "2023-12-15T10:46:49.189062",
     "exception": false,
     "start_time": "2023-12-15T10:46:49.165095",
     "status": "completed"
    },
    "tags": []
   },
   "source": [
    "# LinearRegression"
   ]
  },
  {
   "cell_type": "code",
   "execution_count": 32,
   "id": "436e85b7",
   "metadata": {
    "execution": {
     "iopub.execute_input": "2023-12-15T10:46:49.237895Z",
     "iopub.status.busy": "2023-12-15T10:46:49.237208Z",
     "iopub.status.idle": "2023-12-15T10:46:49.247688Z",
     "shell.execute_reply": "2023-12-15T10:46:49.246827Z"
    },
    "papermill": {
     "duration": 0.037027,
     "end_time": "2023-12-15T10:46:49.249748",
     "exception": false,
     "start_time": "2023-12-15T10:46:49.212721",
     "status": "completed"
    },
    "tags": []
   },
   "outputs": [
    {
     "name": "stdout",
     "output_type": "stream",
     "text": [
      "Mean Squared Error: 182.57889255024114\n",
      "R^2 Score: 0.7258521437329669\n"
     ]
    }
   ],
   "source": [
    "# Training the model on the training set\n",
    "y_val_pred = model1.predict(X_val_transformed)\n",
    "\n",
    "# Evaluateing the model on the validation set\n",
    "mse = mean_squared_error(y_val, y_val_pred)\n",
    "print(f'Mean Squared Error: {mse}')\n",
    "\n",
    "r2 = r2_score(y_val, y_val_pred)\n",
    "print(f'R^2 Score: {r2}')"
   ]
  },
  {
   "cell_type": "markdown",
   "id": "b5f9fa68",
   "metadata": {
    "papermill": {
     "duration": 0.050248,
     "end_time": "2023-12-15T10:46:49.348426",
     "exception": false,
     "start_time": "2023-12-15T10:46:49.298178",
     "status": "completed"
    },
    "tags": []
   },
   "source": [
    "# RandomForestRegressor"
   ]
  },
  {
   "cell_type": "code",
   "execution_count": 33,
   "id": "0b1a26b2",
   "metadata": {
    "execution": {
     "iopub.execute_input": "2023-12-15T10:46:49.412734Z",
     "iopub.status.busy": "2023-12-15T10:46:49.412164Z",
     "iopub.status.idle": "2023-12-15T10:46:50.337907Z",
     "shell.execute_reply": "2023-12-15T10:46:50.337017Z"
    },
    "papermill": {
     "duration": 0.953693,
     "end_time": "2023-12-15T10:46:50.340113",
     "exception": false,
     "start_time": "2023-12-15T10:46:49.386420",
     "status": "completed"
    },
    "tags": []
   },
   "outputs": [
    {
     "name": "stdout",
     "output_type": "stream",
     "text": [
      "Mean Squared Error: 11.65892508527886\n",
      "R^2 Score: 0.9824937632501654\n"
     ]
    }
   ],
   "source": [
    "# Training the model on the training set\n",
    "y_val_pred = model2.predict(X_val_transformed)\n",
    "\n",
    "# Evaluateing the model on the validation set\n",
    "mse = mean_squared_error(y_val, y_val_pred)\n",
    "print(f'Mean Squared Error: {mse}')\n",
    "\n",
    "r2 = r2_score(y_val, y_val_pred)\n",
    "print(f'R^2 Score: {r2}')"
   ]
  },
  {
   "cell_type": "markdown",
   "id": "cd04bc5a",
   "metadata": {
    "papermill": {
     "duration": 0.024015,
     "end_time": "2023-12-15T10:46:50.388788",
     "exception": false,
     "start_time": "2023-12-15T10:46:50.364773",
     "status": "completed"
    },
    "tags": []
   },
   "source": [
    "Random Forests are a versatile and widely used machine learning algorithm suitable for both classification and regression tasks. They are particularly effective when the dataset has a large number of features and when interpretability is not the primary concern."
   ]
  },
  {
   "cell_type": "markdown",
   "id": "0587f4b8",
   "metadata": {
    "papermill": {
     "duration": 0.023863,
     "end_time": "2023-12-15T10:46:50.437984",
     "exception": false,
     "start_time": "2023-12-15T10:46:50.414121",
     "status": "completed"
    },
    "tags": []
   },
   "source": [
    "# XGBRegressor"
   ]
  },
  {
   "cell_type": "code",
   "execution_count": 34,
   "id": "09472ab3",
   "metadata": {
    "execution": {
     "iopub.execute_input": "2023-12-15T10:46:50.488425Z",
     "iopub.status.busy": "2023-12-15T10:46:50.487591Z",
     "iopub.status.idle": "2023-12-15T10:46:50.516328Z",
     "shell.execute_reply": "2023-12-15T10:46:50.511612Z"
    },
    "papermill": {
     "duration": 0.056305,
     "end_time": "2023-12-15T10:46:50.518467",
     "exception": false,
     "start_time": "2023-12-15T10:46:50.462162",
     "status": "completed"
    },
    "tags": []
   },
   "outputs": [
    {
     "name": "stdout",
     "output_type": "stream",
     "text": [
      "Mean Squared Error: 20.348389794829636\n",
      "R^2 Score: 0.9694462631314107\n"
     ]
    }
   ],
   "source": [
    "# Training the model on the training set\n",
    "y_val_pred = model3.predict(X_val_transformed)\n",
    "\n",
    "# Evaluateing the model on the validation set\n",
    "mse = mean_squared_error(y_val, y_val_pred)\n",
    "print(f'Mean Squared Error: {mse}')\n",
    "\n",
    "r2 = r2_score(y_val, y_val_pred)\n",
    "print(f'R^2 Score: {r2}')"
   ]
  },
  {
   "cell_type": "markdown",
   "id": "b13967df",
   "metadata": {
    "papermill": {
     "duration": 0.029208,
     "end_time": "2023-12-15T10:46:50.575250",
     "exception": false,
     "start_time": "2023-12-15T10:46:50.546042",
     "status": "completed"
    },
    "tags": []
   },
   "source": [
    "XGBoost's effectiveness lies in its ability to handle complex relationships in data, manage overfitting, and provide high predictive accuracy. "
   ]
  },
  {
   "cell_type": "markdown",
   "id": "94398bdd",
   "metadata": {
    "papermill": {
     "duration": 0.026934,
     "end_time": "2023-12-15T10:46:50.630640",
     "exception": false,
     "start_time": "2023-12-15T10:46:50.603706",
     "status": "completed"
    },
    "tags": []
   },
   "source": [
    "# Prediction for Test data"
   ]
  },
  {
   "cell_type": "code",
   "execution_count": 35,
   "id": "51f470aa",
   "metadata": {
    "execution": {
     "iopub.execute_input": "2023-12-15T10:46:50.679257Z",
     "iopub.status.busy": "2023-12-15T10:46:50.678892Z",
     "iopub.status.idle": "2023-12-15T10:46:50.739898Z",
     "shell.execute_reply": "2023-12-15T10:46:50.738890Z"
    },
    "papermill": {
     "duration": 0.088084,
     "end_time": "2023-12-15T10:46:50.742391",
     "exception": false,
     "start_time": "2023-12-15T10:46:50.654307",
     "status": "completed"
    },
    "tags": []
   },
   "outputs": [
    {
     "data": {
      "text/plain": [
       "array([34.13513 , 25.507301, 15.530304, ..., 20.41241 , 34.354618,\n",
       "       17.936577], dtype=float32)"
      ]
     },
     "execution_count": 35,
     "metadata": {},
     "output_type": "execute_result"
    }
   ],
   "source": [
    "# Apply the transformations to the test data\n",
    "X_test_transformed = numerical_transformer.transform(test)\n",
    "\n",
    "# Make predictions\n",
    "y_pred = model3.predict(X_test_transformed)\n",
    "\n",
    "#predictions of y_pred for the data in test.csv\n",
    "y_pred"
   ]
  },
  {
   "cell_type": "markdown",
   "id": "42c8039f",
   "metadata": {
    "papermill": {
     "duration": 0.023357,
     "end_time": "2023-12-15T10:46:50.791007",
     "exception": false,
     "start_time": "2023-12-15T10:46:50.767650",
     "status": "completed"
    },
    "tags": []
   },
   "source": [
    "# **Hypermeter Tuning Of diff. type of Model to Optimise  its configuration**"
   ]
  },
  {
   "cell_type": "code",
   "execution_count": 36,
   "id": "736ac990",
   "metadata": {
    "execution": {
     "iopub.execute_input": "2023-12-15T10:46:50.839257Z",
     "iopub.status.busy": "2023-12-15T10:46:50.838935Z",
     "iopub.status.idle": "2023-12-15T10:46:50.844537Z",
     "shell.execute_reply": "2023-12-15T10:46:50.843832Z"
    },
    "papermill": {
     "duration": 0.031827,
     "end_time": "2023-12-15T10:46:50.846313",
     "exception": false,
     "start_time": "2023-12-15T10:46:50.814486",
     "status": "completed"
    },
    "tags": []
   },
   "outputs": [],
   "source": [
    "from sklearn.model_selection import GridSearchCV, RandomizedSearchCV\n",
    "from sklearn.ensemble import RandomForestRegressor, GradientBoostingRegressor\n",
    "from sklearn.svm import SVR\n",
    "from scipy.stats import randint\n",
    "import xgboost as xgb\n"
   ]
  },
  {
   "cell_type": "markdown",
   "id": "70cd4acd",
   "metadata": {
    "papermill": {
     "duration": 0.023557,
     "end_time": "2023-12-15T10:46:50.893236",
     "exception": false,
     "start_time": "2023-12-15T10:46:50.869679",
     "status": "completed"
    },
    "tags": []
   },
   "source": [
    "# **Diffrent Models Param Dist.**"
   ]
  },
  {
   "cell_type": "markdown",
   "id": "a937434c",
   "metadata": {
    "papermill": {
     "duration": 0.023444,
     "end_time": "2023-12-15T10:46:50.940539",
     "exception": false,
     "start_time": "2023-12-15T10:46:50.917095",
     "status": "completed"
    },
    "tags": []
   },
   "source": [
    "# **APPLYING MODELS**\n",
    "\n",
    "# GradientBoostingRegressor"
   ]
  },
  {
   "cell_type": "markdown",
   "id": "efece9d2",
   "metadata": {
    "papermill": {
     "duration": 0.023185,
     "end_time": "2023-12-15T10:46:50.987181",
     "exception": false,
     "start_time": "2023-12-15T10:46:50.963996",
     "status": "completed"
    },
    "tags": []
   },
   "source": [
    "# RandomForestRegressor"
   ]
  },
  {
   "cell_type": "markdown",
   "id": "22ce4726",
   "metadata": {
    "papermill": {
     "duration": 0.023119,
     "end_time": "2023-12-15T10:46:51.033802",
     "exception": false,
     "start_time": "2023-12-15T10:46:51.010683",
     "status": "completed"
    },
    "tags": []
   },
   "source": [
    "# XGBRegressor"
   ]
  },
  {
   "cell_type": "markdown",
   "id": "cdf2f306",
   "metadata": {
    "papermill": {
     "duration": 0.023279,
     "end_time": "2023-12-15T10:46:51.080914",
     "exception": false,
     "start_time": "2023-12-15T10:46:51.057635",
     "status": "completed"
    },
    "tags": []
   },
   "source": [
    "# Geting the best hyperparameters for each model"
   ]
  },
  {
   "cell_type": "markdown",
   "id": "f9eb0117",
   "metadata": {
    "papermill": {
     "duration": 0.023448,
     "end_time": "2023-12-15T10:46:51.128236",
     "exception": false,
     "start_time": "2023-12-15T10:46:51.104788",
     "status": "completed"
    },
    "tags": []
   },
   "source": [
    "# Printing best params"
   ]
  },
  {
   "cell_type": "markdown",
   "id": "aff213ad",
   "metadata": {
    "papermill": {
     "duration": 0.023289,
     "end_time": "2023-12-15T10:46:51.175184",
     "exception": false,
     "start_time": "2023-12-15T10:46:51.151895",
     "status": "completed"
    },
    "tags": []
   },
   "source": [
    "# Submission of Prediction"
   ]
  },
  {
   "cell_type": "code",
   "execution_count": 37,
   "id": "f343f970",
   "metadata": {
    "execution": {
     "iopub.execute_input": "2023-12-15T10:46:51.224056Z",
     "iopub.status.busy": "2023-12-15T10:46:51.223677Z",
     "iopub.status.idle": "2023-12-15T10:46:51.421370Z",
     "shell.execute_reply": "2023-12-15T10:46:51.420377Z"
    },
    "papermill": {
     "duration": 0.224481,
     "end_time": "2023-12-15T10:46:51.423471",
     "exception": false,
     "start_time": "2023-12-15T10:46:51.198990",
     "status": "completed"
    },
    "tags": []
   },
   "outputs": [
    {
     "data": {
      "text/html": [
       "<div>\n",
       "<style scoped>\n",
       "    .dataframe tbody tr th:only-of-type {\n",
       "        vertical-align: middle;\n",
       "    }\n",
       "\n",
       "    .dataframe tbody tr th {\n",
       "        vertical-align: top;\n",
       "    }\n",
       "\n",
       "    .dataframe thead th {\n",
       "        text-align: right;\n",
       "    }\n",
       "</style>\n",
       "<table border=\"1\" class=\"dataframe\">\n",
       "  <thead>\n",
       "    <tr style=\"text-align: right;\">\n",
       "      <th></th>\n",
       "      <th>ID</th>\n",
       "      <th>total_amount</th>\n",
       "    </tr>\n",
       "  </thead>\n",
       "  <tbody>\n",
       "    <tr>\n",
       "      <th>0</th>\n",
       "      <td>1</td>\n",
       "      <td>34.135132</td>\n",
       "    </tr>\n",
       "    <tr>\n",
       "      <th>1</th>\n",
       "      <td>2</td>\n",
       "      <td>25.507301</td>\n",
       "    </tr>\n",
       "    <tr>\n",
       "      <th>2</th>\n",
       "      <td>3</td>\n",
       "      <td>15.530304</td>\n",
       "    </tr>\n",
       "    <tr>\n",
       "      <th>3</th>\n",
       "      <td>4</td>\n",
       "      <td>15.602636</td>\n",
       "    </tr>\n",
       "    <tr>\n",
       "      <th>4</th>\n",
       "      <td>5</td>\n",
       "      <td>24.833763</td>\n",
       "    </tr>\n",
       "    <tr>\n",
       "      <th>...</th>\n",
       "      <td>...</td>\n",
       "      <td>...</td>\n",
       "    </tr>\n",
       "    <tr>\n",
       "      <th>49995</th>\n",
       "      <td>49996</td>\n",
       "      <td>15.668847</td>\n",
       "    </tr>\n",
       "    <tr>\n",
       "      <th>49996</th>\n",
       "      <td>49997</td>\n",
       "      <td>26.257338</td>\n",
       "    </tr>\n",
       "    <tr>\n",
       "      <th>49997</th>\n",
       "      <td>49998</td>\n",
       "      <td>20.412411</td>\n",
       "    </tr>\n",
       "    <tr>\n",
       "      <th>49998</th>\n",
       "      <td>49999</td>\n",
       "      <td>34.354618</td>\n",
       "    </tr>\n",
       "    <tr>\n",
       "      <th>49999</th>\n",
       "      <td>50000</td>\n",
       "      <td>17.936577</td>\n",
       "    </tr>\n",
       "  </tbody>\n",
       "</table>\n",
       "<p>50000 rows × 2 columns</p>\n",
       "</div>"
      ],
      "text/plain": [
       "          ID  total_amount\n",
       "0          1     34.135132\n",
       "1          2     25.507301\n",
       "2          3     15.530304\n",
       "3          4     15.602636\n",
       "4          5     24.833763\n",
       "...      ...           ...\n",
       "49995  49996     15.668847\n",
       "49996  49997     26.257338\n",
       "49997  49998     20.412411\n",
       "49998  49999     34.354618\n",
       "49999  50000     17.936577\n",
       "\n",
       "[50000 rows x 2 columns]"
      ]
     },
     "execution_count": 37,
     "metadata": {},
     "output_type": "execute_result"
    }
   ],
   "source": [
    "submission = pd.DataFrame(columns = [\"ID\",\"total_amount\"])\n",
    "submission[\"ID\"] = [i for i in range(1,len(y_pred)+1)]\n",
    "submission[\"total_amount\"] = y_pred\n",
    "submission.to_csv('submission.csv',index=False)\n",
    "submission"
   ]
  },
  {
   "cell_type": "markdown",
   "id": "5d6f07df",
   "metadata": {
    "papermill": {
     "duration": 0.023768,
     "end_time": "2023-12-15T10:46:51.472002",
     "exception": false,
     "start_time": "2023-12-15T10:46:51.448234",
     "status": "completed"
    },
    "tags": []
   },
   "source": [
    "# **SUMMERY**\n",
    "\n",
    "# *Top models:*\n",
    "\n",
    "# 1. Model Name = XGBRegressor\n",
    "#    Best prediction score of this model on Test-Data = 0.94484\n",
    "#    Prediction score of XGBRegressor on Train-Data = 0.969446\n",
    "****\n",
    "# 2. Model Name = RandomForestRegressor  (Overfitting)\n",
    "#    Best prediction score of this model on Test-Data=0.9348\n",
    "#    Best prediction score of this model on Train-Data = 0.9824\n",
    "****\n",
    "# 3. Model Name = GradientBoostingRegressor  (Overfitting)\n",
    "#    Best prediction score of this model on Test-Data=0.9014\n",
    "#    Best prediction score of this model on Train-Data = 0.948496\n",
    "\n",
    "\n"
   ]
  }
 ],
 "metadata": {
  "kaggle": {
   "accelerator": "gpu",
   "dataSources": [
    {
     "databundleVersionId": 6604167,
     "sourceId": 61246,
     "sourceType": "competition"
    }
   ],
   "dockerImageVersionId": 30558,
   "isGpuEnabled": true,
   "isInternetEnabled": true,
   "language": "python",
   "sourceType": "notebook"
  },
  "kernelspec": {
   "display_name": "Python 3",
   "language": "python",
   "name": "python3"
  },
  "language_info": {
   "codemirror_mode": {
    "name": "ipython",
    "version": 3
   },
   "file_extension": ".py",
   "mimetype": "text/x-python",
   "name": "python",
   "nbconvert_exporter": "python",
   "pygments_lexer": "ipython3",
   "version": "3.10.12"
  },
  "papermill": {
   "default_parameters": {},
   "duration": 181.379281,
   "end_time": "2023-12-15T10:46:52.216042",
   "environment_variables": {},
   "exception": null,
   "input_path": "__notebook__.ipynb",
   "output_path": "__notebook__.ipynb",
   "parameters": {},
   "start_time": "2023-12-15T10:43:50.836761",
   "version": "2.4.0"
  }
 },
 "nbformat": 4,
 "nbformat_minor": 5
}
